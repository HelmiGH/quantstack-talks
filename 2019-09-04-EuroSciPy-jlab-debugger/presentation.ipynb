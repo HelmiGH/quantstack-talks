{
 "cells": [
  {
   "cell_type": "markdown",
   "metadata": {},
   "source": [
    "![](./img/skip.png)"
   ]
  },
  {
   "cell_type": "markdown",
   "metadata": {},
   "source": [
    "# Debugging in JupyterLab\n",
    "\n",
    "## 🇪🇺 🐍 EuroSciPy 2019 🐍 🇪🇺\n",
    "\n",
    "<br>\n",
    "\n",
    "## Jeremy Tuloup - [github.com/jtpio](https://github.com/jtpio)\n",
    "\n",
    "<br>\n",
    "<br>\n",
    "\n",
    "\n",
    "![quantstack](./img/quantstack-logo.svg)"
   ]
  },
  {
   "cell_type": "markdown",
   "metadata": {},
   "source": [
    "![](./img/skip.png)"
   ]
  },
  {
   "cell_type": "markdown",
   "metadata": {
    "toc-hr-collapsed": false
   },
   "source": [
    "# 1. Current tools for debugging Jupyter Notebooks"
   ]
  },
  {
   "cell_type": "markdown",
   "metadata": {},
   "source": [
    "![](./img/skip.png)"
   ]
  },
  {
   "cell_type": "markdown",
   "metadata": {},
   "source": [
    "## print statements"
   ]
  },
  {
   "cell_type": "code",
   "execution_count": null,
   "metadata": {},
   "outputs": [],
   "source": [
    "for i in range(10):\n",
    "    j = i ** 2\n",
    "    print(\"j =\", j)"
   ]
  },
  {
   "cell_type": "markdown",
   "metadata": {},
   "source": [
    "![](./img/skip.png)"
   ]
  },
  {
   "cell_type": "markdown",
   "metadata": {},
   "source": [
    "## ipdb"
   ]
  },
  {
   "cell_type": "code",
   "execution_count": null,
   "metadata": {},
   "outputs": [],
   "source": [
    "for i in range(5):\n",
    "    j = i ** 2\n",
    "    breakpoint()  # Python 3.7+\n",
    "    # import ipdb; ipdb.set_trace()\n",
    "    print(j)"
   ]
  },
  {
   "cell_type": "markdown",
   "metadata": {},
   "source": [
    "![](./img/skip.png)"
   ]
  },
  {
   "cell_type": "markdown",
   "metadata": {},
   "source": [
    "## PixieDebugger"
   ]
  },
  {
   "cell_type": "code",
   "execution_count": null,
   "metadata": {},
   "outputs": [],
   "source": [
    "from IPython.display import YouTubeVideo\n",
    "\n",
    "YouTubeVideo(\"Z-tPeEkVqjk\", start=39, width=800, height=500)"
   ]
  },
  {
   "cell_type": "markdown",
   "metadata": {},
   "source": [
    "![](./img/skip.png)"
   ]
  },
  {
   "cell_type": "markdown",
   "metadata": {},
   "source": [
    "## PyCharm, Visual Studio and other IDEs"
   ]
  },
  {
   "cell_type": "markdown",
   "metadata": {},
   "source": [
    "![](./img/skip.png)"
   ]
  },
  {
   "cell_type": "markdown",
   "metadata": {},
   "source": [
    "## Visual Studio Code Cell Debugging\n",
    "\n",
    "### From https://twitter.com/davorabbit/status/1149062343231455238\n"
   ]
  },
  {
   "cell_type": "code",
   "execution_count": null,
   "metadata": {},
   "outputs": [],
   "source": [
    "from IPython.display import Video\n",
    "\n",
    "Video(\"./img/vscode-cell-debugging.mp4\")"
   ]
  },
  {
   "cell_type": "markdown",
   "metadata": {},
   "source": [
    "![](./img/skip.png)"
   ]
  },
  {
   "cell_type": "markdown",
   "metadata": {},
   "source": [
    "# 2. Native debugging support for Jupyter Kernels"
   ]
  },
  {
   "cell_type": "markdown",
   "metadata": {},
   "source": [
    "![](./img/skip.png)"
   ]
  },
  {
   "cell_type": "code",
   "execution_count": null,
   "metadata": {},
   "outputs": [],
   "source": [
    "x = 1"
   ]
  },
  {
   "cell_type": "markdown",
   "metadata": {},
   "source": [
    "![](./img/skip.png)"
   ]
  },
  {
   "cell_type": "markdown",
   "metadata": {},
   "source": [
    "## New `debug_request`, `debug_reply` and `debug_event` messages\n",
    "\n",
    "### https://jupyter-client.readthedocs.io/en/latest/messaging.html#debug-request\n",
    "\n",
    "![debug_request](./img/debug_request.png)"
   ]
  },
  {
   "cell_type": "markdown",
   "metadata": {},
   "source": [
    "![](./img/skip.png)"
   ]
  },
  {
   "cell_type": "markdown",
   "metadata": {},
   "source": [
    "## - Adding a debugger to xeus-python\n",
    "\n",
    "## - Driven by Johan Mabille\n",
    "\n",
    "![xeus-python](./img/xeus-python-debugging.png)\n",
    "\n",
    "### https://github.com/jupyter/jupyter_client/issues/446\n",
    "### https://github.com/jupyter/jupyter_client/pull/447\n",
    "### https://github.com/jupyterlab/jupyterlab/pull/6544\n",
    "### https://github.com/jupyter/notebook/pull/4672\n",
    "### https://github.com/jupyter/jupyter_server/pull/56"
   ]
  },
  {
   "cell_type": "markdown",
   "metadata": {},
   "source": [
    "![](./img/skip.png)"
   ]
  },
  {
   "cell_type": "markdown",
   "metadata": {},
   "source": [
    "## Debug Protocol\n",
    "\n",
    "### - Standing on the shoulder of giants\n",
    "\n",
    "### - Debug Adapter Protocol: https://microsoft.github.io/debug-adapter-protocol/specification (used in VS Code)\n",
    "\n",
    "### - `ptvsd` (Python Tools for Visual Studio debug server)"
   ]
  },
  {
   "cell_type": "markdown",
   "metadata": {},
   "source": [
    "![](./img/skip.png)"
   ]
  },
  {
   "cell_type": "markdown",
   "metadata": {},
   "source": [
    "Source: https://microsoft.github.io/debug-adapter-protocol/overview\n",
    "\n",
    "![](./img/init-launch.png)"
   ]
  },
  {
   "cell_type": "markdown",
   "metadata": {},
   "source": [
    "![](./img/skip.png)"
   ]
  },
  {
   "cell_type": "markdown",
   "metadata": {},
   "source": [
    "# 3. Debugger extension for JupyterLab"
   ]
  },
  {
   "cell_type": "markdown",
   "metadata": {},
   "source": [
    "## - Active development\n",
    "\n",
    "## - https://github.com/jupyterlab/debugger\n",
    "\n",
    "<br><br>\n",
    "\n",
    "<div>\n",
    "    <img style=\"margin: 20px\" src=\"./img/quantstack-logo.svg\" />\n",
    "    <img style=\"margin: 20px\" src=\"./img/bloomberg-logo.png\" />\n",
    "    <img style=\"margin: 20px\" src=\"./img/two-sigma-logo.png\" />\n",
    "</div>\n",
    "\n",
    "<br><br>\n",
    "\n",
    "\n",
    "![ui](./img/initial-ui.png)"
   ]
  },
  {
   "cell_type": "markdown",
   "metadata": {},
   "source": [
    "![](./img/skip.png)"
   ]
  },
  {
   "cell_type": "markdown",
   "metadata": {},
   "source": [
    "## Prototype\n",
    "\n",
    "### Switching to `xpython`"
   ]
  },
  {
   "cell_type": "code",
   "execution_count": null,
   "metadata": {},
   "outputs": [],
   "source": [
    "for i in range(5):\n",
    "    j = i + 1\n",
    "    k = j ** 2\n",
    "    print(j, k)"
   ]
  },
  {
   "cell_type": "code",
   "execution_count": null,
   "metadata": {},
   "outputs": [],
   "source": [
    "from ipywidgets import IntSlider\n",
    "\n",
    "N = 5\n",
    "slider = IntSlider(max=N)\n",
    "slider"
   ]
  },
  {
   "cell_type": "code",
   "execution_count": null,
   "metadata": {},
   "outputs": [],
   "source": [
    "for i in range(N + 1):\n",
    "    slider.value = i\n",
    "    print(i)"
   ]
  },
  {
   "cell_type": "markdown",
   "metadata": {},
   "source": [
    "![](./img/skip.png)"
   ]
  },
  {
   "cell_type": "markdown",
   "metadata": {},
   "source": [
    "# Thanks!"
   ]
  },
  {
   "cell_type": "markdown",
   "metadata": {},
   "source": [
    "![](./img/skip.png)"
   ]
  }
 ],
 "metadata": {
  "kernelspec": {
   "display_name": "Python 3",
   "language": "python",
   "name": "python3"
  },
  "language_info": {
   "codemirror_mode": {
    "name": "ipython",
    "version": 3
   },
   "file_extension": ".py",
   "mimetype": "text/x-python",
   "name": "python",
   "nbconvert_exporter": "python",
   "pygments_lexer": "ipython3",
   "version": "3.7.3"
  },
  "toc-showmarkdowntxt": false
 },
 "nbformat": 4,
 "nbformat_minor": 4
}
