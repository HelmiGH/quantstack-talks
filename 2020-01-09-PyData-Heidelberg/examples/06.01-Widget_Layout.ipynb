{
 "cells": [
  {
   "cell_type": "markdown",
   "metadata": {},
   "source": [
    "# Layout and Styling of Jupyter widgets\n",
    "\n",
    "This section presents how to layout and style Jupyter interactive widgets to build rich and *reactive* widget-based applications."
   ]
  },
  {
   "cell_type": "markdown",
   "metadata": {},
   "source": [
    "## The `layout` attribute.\n",
    "\n",
    "Jupyter interactive widgets have a `layout` attribute exposing a number of CSS properties that impact how widgets are laid out.\n",
    "\n",
    "### Exposed CSS properties\n",
    "\n",
    "<div class=\"alert alert-info\" style=\"margin: 20px\">\n",
    "The following properties map to the values of the CSS properties of the same name (underscores being replaced with dashes), applied to the top DOM elements of the corresponding widget.\n",
    "</div>\n",
    "\n",
    "\n",
    "#### Sizes\n",
    "\n",
    "- `height`\n",
    "- `width`\n",
    "- `max_height`\n",
    "- `max_width`\n",
    "- `min_height`\n",
    "- `min_width`\n",
    "\n",
    "#### Display\n",
    "\n",
    "- `visibility`\n",
    "- `display`\n",
    "- `overflow`\n",
    "- `overflow_x` (deprecated in `7.5`, use `overflow` instead)\n",
    "- `overflow_y` (deprecated in `7.5`, use `overflow` instead)\n",
    "\n",
    "#### Box model\n",
    "\n",
    "- `border` \n",
    "- `margin`\n",
    "- `padding`\n",
    "\n",
    "#### Positioning\n",
    "\n",
    "- `top`\n",
    "- `left`\n",
    "- `bottom`\n",
    "- `right`\n",
    "\n",
    "#### Image/media\n",
    "\n",
    "- `object_fit`\n",
    "- `object_position`\n",
    "\n",
    "#### Flexbox\n",
    "\n",
    "- `order`\n",
    "- `flex_flow`\n",
    "- `align_items`\n",
    "- `flex`\n",
    "- `align_self`\n",
    "- `align_content`\n",
    "- `justify_content`\n",
    "- `justify_items`\n",
    "\n",
    "#### Grid layout\n",
    "\n",
    "- `grid_auto_columns`\n",
    "- `grid_auto_flow`\n",
    "- `grid_auto_rows`\n",
    "- `grid_gap`\n",
    "- `grid_template_rows`\n",
    "- `grid_template_columns`\n",
    "- `grid_template_areas`\n",
    "- `grid_row`\n",
    "- `grid_column`\n",
    "- `grid_area`\n",
    "\n",
    "### Shorthand CSS properties\n",
    "\n",
    "You may have noticed that certain CSS properties such as `margin-[top/right/bottom/left]` seem to be missing. The same holds for `padding-[top/right/bottom/left]` etc.\n",
    "\n",
    "In fact, you can atomically specify `[top/right/bottom/left]` margins via the `margin` attribute alone by passing the string `'100px 150px 100px 80px'` for a respectively `top`, `right`, `bottom` and `left` margins of  `100`, `150`, `100` and `80` pixels.\n",
    "\n",
    "Similarly, the `flex` attribute can hold values for `flex-grow`, `flex-shrink` and `flex-basis`. The `border` attribute is a shorthand property for `border-width`, `border-style (required)`, and `border-color`."
   ]
  },
  {
   "cell_type": "markdown",
   "metadata": {},
   "source": [
    "## Simple examples"
   ]
  },
  {
   "cell_type": "markdown",
   "metadata": {},
   "source": [
    "The following example shows how to resize a `Button` so that its views have a height of `80px` and a width of `50%` of the available space. It also includes an example of setting a CSS property that requires multiple values (a border, in thise case):"
   ]
  },
  {
   "cell_type": "code",
   "execution_count": 1,
   "metadata": {},
   "outputs": [
    {
     "data": {
      "application/vnd.jupyter.widget-view+json": {
       "model_id": "a98fbb2ca38a4bab911d3b614d100041",
       "version_major": 2,
       "version_minor": 0
      },
      "text/plain": [
       "Button(description='(50% width, 80px height) button', layout=Layout(border='2px dotted blue', height='80px', w…"
      ]
     },
     "metadata": {},
     "output_type": "display_data"
    }
   ],
   "source": [
    "from ipywidgets import Button, Layout\n",
    "\n",
    "b = Button(description='(50% width, 80px height) button',\n",
    "           layout=Layout(width='50%', height='80px', border='2px dotted blue'))\n",
    "b"
   ]
  },
  {
   "cell_type": "markdown",
   "metadata": {},
   "source": [
    "The `layout` property can be shared between multiple widgets and assigned directly."
   ]
  },
  {
   "cell_type": "code",
   "execution_count": 2,
   "metadata": {},
   "outputs": [
    {
     "data": {
      "application/vnd.jupyter.widget-view+json": {
       "model_id": "7c2a49ca629142d49b8a257550382097",
       "version_major": 2,
       "version_minor": 0
      },
      "text/plain": [
       "Button(description='Another button with the same layout', layout=Layout(border='2px dotted blue', height='80px…"
      ]
     },
     "metadata": {},
     "output_type": "display_data"
    }
   ],
   "source": [
    "Button(description='Another button with the same layout', layout=b.layout)"
   ]
  },
  {
   "cell_type": "markdown",
   "metadata": {},
   "source": [
    "### Is simple layout really simple?\n",
    "\n",
    "The cell below adds a `min_width` and `max_width` to the button layout. The effect may be surprising; in CSS if max/min width are present they override the width."
   ]
  },
  {
   "cell_type": "code",
   "execution_count": 3,
   "metadata": {},
   "outputs": [],
   "source": [
    "b.layout.min_width='10%'\n",
    "b.layout.max_width='20%'"
   ]
  },
  {
   "cell_type": "markdown",
   "metadata": {},
   "source": [
    "### Natural sizes, and arrangements using HBox and VBox\n",
    "\n",
    "Most of the core-widgets have default heights and widths that tile well together. This allows simple layouts based on the `HBox` and `VBox` helper functions to align naturally:"
   ]
  },
  {
   "cell_type": "code",
   "execution_count": 4,
   "metadata": {},
   "outputs": [
    {
     "data": {
      "application/vnd.jupyter.widget-view+json": {
       "model_id": "7ddd9f2da26e4c97b683184b4d03faca",
       "version_major": 2,
       "version_minor": 0
      },
      "text/plain": [
       "HBox(children=(VBox(children=(Button(description='correct', style=ButtonStyle()), Button(description='horse', …"
      ]
     },
     "metadata": {},
     "output_type": "display_data"
    }
   ],
   "source": [
    "from ipywidgets import Button, HBox, VBox\n",
    "\n",
    "words = ['correct', 'horse', 'battery', 'staple']\n",
    "items = [Button(description=w) for w in words]\n",
    "left_box = VBox([items[0], items[1]])\n",
    "right_box = VBox([items[2], items[3]])\n",
    "HBox([left_box, right_box])"
   ]
  },
  {
   "cell_type": "markdown",
   "metadata": {},
   "source": [
    "## Flexbox and Grid\n",
    "\n",
    "The *Flexbox* CSS specification is great for laying out items in a single direction, horizontally or vertically. As we saw in the previous example, two dimensional layout can be done with flexbox by using a combination of horizontal and vertical components.\n",
    "\n",
    "The *Grid* CSS specifation is designed to be used for two dimensional layout. There are properties for specifying the number of items in each row or column, how they should be sized, and how items should be aligned.\n",
    "\n",
    "### For more information about Flexbox and Grid\n",
    "\n",
    "The are notebooks with more detail about [widgets and the Flexbox model](reference_guides/guide-flex-box.ipynb) and [widgets and the Grid model](reference_guides/guide-grid-box.ipynb). The code examples from each of those notebooks is included here also.\n",
    "\n",
    "If you want to learn more about CSS layout after this tutorial, take a look at this [excellent set of articles on CSS layout at MDN](https://developer.mozilla.org/en-US/docs/Learn/CSS/CSS_layout). The Flexbox and Grid articles each have links to more extensive guides at the end of the article."
   ]
  },
  {
   "cell_type": "markdown",
   "metadata": {},
   "source": [
    "## The Flexbox layout\n",
    "\n",
    "The `HBox` and `VBox` classes above are special cases of the `Box` widget.\n",
    "\n",
    "The `Box` widget enables the entire CSS flexbox spec as well as the Grid layout spec, enabling rich reactive layouts in the Jupyter notebook. It aims at providing an efficient way to lay out, align and distribute space among items in a container.\n",
    "\n",
    "Again, the whole flexbox spec is exposed via the `layout` attribute of the container widget (`Box`) and the contained items. One may share the same `layout` attribute among all the contained items.\n",
    "\n",
    "### Acknowledgement\n",
    "\n",
    "The following flexbox tutorial on the flexbox layout follows the lines of the article [A Complete Guide to Flexbox](https://css-tricks.com/snippets/css/a-guide-to-flexbox/) by Chris Coyier, and uses text and various images from the article [with permission](https://css-tricks.com/license/).\n",
    "\n",
    "### Basics and terminology\n",
    "\n",
    "The flexbox layout spectrum is excellent for laying out items in a single direction, either horizontally or vertically. \n",
    "\n",
    "Since flexbox is a whole module and not a single property, it involves a lot of things including its whole set of properties. Some of them are meant to be set on the container (parent element, known as \"flex container\") whereas the others are meant to be set on the children (known as \"flex items\").\n",
    "If regular layout is based on both block and inline flow directions, the flex layout is based on \"flex-flow directions\". Please have a look at this figure from the specification, explaining the main idea behind the flex layout.\n",
    "\n",
    "![Flexbox](./images/flexbox.png)\n",
    "\n",
    "Basically, items will be laid out following either the `main axis` (from `main-start` to `main-end`) or the `cross axis` (from `cross-start` to `cross-end`).\n",
    "\n",
    "- `main axis` - The main axis of a flex container is the primary axis along which flex items are laid out. Beware, it is not necessarily horizontal; it depends on the flex-direction property (see below).\n",
    "- `main-start | main-end` - The flex items are placed within the container starting from main-start and going to main-end.\n",
    "- `main size` - A flex item's width or height, whichever is in the main dimension, is the item's main size. The flex item's main size property is either the ‘width’ or ‘height’ property, whichever is in the main dimension.\n",
    "cross axis - The axis perpendicular to the main axis is called the cross axis. Its direction depends on the main axis direction.\n",
    "- `cross-start | cross-end` - Flex lines are filled with items and placed into the container starting on the cross-start side of the flex container and going toward the cross-end side.\n",
    "- `cross size` - The width or height of a flex item, whichever is in the cross dimension, is the item's cross size. The cross size property is whichever of ‘width’ or ‘height’ that is in the cross dimension.\n",
    "\n",
    "### The VBox and HBox helpers\n",
    "\n",
    "The `VBox` and `HBox` helper classes provide simple defaults to arrange child widgets in vertical and horizontal boxes. They are roughly equivalent to:\n",
    "\n",
    "```Python\n",
    "def VBox(*pargs, **kwargs):\n",
    "    \"\"\"Displays multiple widgets vertically using the flexible box model.\"\"\"\n",
    "    box = Box(*pargs, **kwargs)\n",
    "    box.layout.display = 'flex'\n",
    "    box.layout.flex_flow = 'column'\n",
    "    box.layout.align_items = 'stretch'\n",
    "    return box\n",
    "\n",
    "def HBox(*pargs, **kwargs):\n",
    "    \"\"\"Displays multiple widgets horizontally using the flexible box model.\"\"\"\n",
    "    box = Box(*pargs, **kwargs)\n",
    "    box.layout.display = 'flex'\n",
    "    box.layout.align_items = 'stretch'\n",
    "    return box\n",
    "```\n",
    "\n",
    "\n"
   ]
  },
  {
   "cell_type": "markdown",
   "metadata": {},
   "source": [
    "### Examples\n",
    "\n",
    "**Four buttons in a VBox. Items stretch to the maximum width, in a vertical box taking `50%` of the available space.**"
   ]
  },
  {
   "cell_type": "code",
   "execution_count": 5,
   "metadata": {},
   "outputs": [
    {
     "data": {
      "application/vnd.jupyter.widget-view+json": {
       "model_id": "3e867559c3d34e1099c9a9d921f48e9c",
       "version_major": 2,
       "version_minor": 0
      },
      "text/plain": [
       "Box(children=(Button(button_style='danger', description='correct', layout=Layout(width='auto'), style=ButtonSt…"
      ]
     },
     "metadata": {},
     "output_type": "display_data"
    }
   ],
   "source": [
    "from ipywidgets import Layout, Button, Box\n",
    "\n",
    "items_layout = Layout(width='auto')     # override the default width of the button to 'auto' to let the button grow\n",
    "\n",
    "box_layout = Layout(display='flex',\n",
    "                    flex_flow='column', \n",
    "                    align_items='stretch', \n",
    "                    border='solid',\n",
    "                    width='50%')\n",
    "\n",
    "words = ['correct', 'horse', 'battery', 'staple']\n",
    "items = [Button(description=word, layout=items_layout, button_style='danger') for word in words]\n",
    "box = Box(children=items, layout=box_layout)\n",
    "box"
   ]
  },
  {
   "cell_type": "markdown",
   "metadata": {},
   "source": [
    "**Three buttons in an HBox. Items flex proportionally to their weight.**"
   ]
  },
  {
   "cell_type": "code",
   "execution_count": 6,
   "metadata": {},
   "outputs": [
    {
     "data": {
      "application/vnd.jupyter.widget-view+json": {
       "model_id": "67394bd5bab047f1817b6543df4729ab",
       "version_major": 2,
       "version_minor": 0
      },
      "text/plain": [
       "VBox(children=(Box(children=(Button(button_style='danger', description='weight=1; auto', layout=Layout(flex='1…"
      ]
     },
     "metadata": {},
     "output_type": "display_data"
    }
   ],
   "source": [
    "from ipywidgets import Layout, Button, Box, VBox\n",
    "\n",
    "# Items flex proportionally to the weight and the left over space around the text \n",
    "items_auto = [\n",
    "    Button(description='weight=1; auto', layout=Layout(flex='1 1 auto', width='auto'), button_style='danger'),\n",
    "    Button(description='weight=3; auto', layout=Layout(flex='3 1 auto', width='auto'), button_style='danger'),\n",
    "    Button(description='weight=1; auto', layout=Layout(flex='1 1 auto', width='auto'), button_style='danger'),\n",
    " ]\n",
    "\n",
    "# Items flex proportionally to the weight \n",
    "items_0 = [\n",
    "    Button(description='weight=1; 0%', layout=Layout(flex='1 1 0%', width='auto'), button_style='danger'),\n",
    "    Button(description='weight=3; 0%', layout=Layout(flex='3 1 0%', width='auto'), button_style='danger'),\n",
    "    Button(description='weight=1; 0%', layout=Layout(flex='1 1 0%', width='auto'), button_style='danger'),\n",
    " ]\n",
    "box_layout = Layout(display='flex',\n",
    "                    flex_flow='row', \n",
    "                    align_items='stretch', \n",
    "                    width='70%')\n",
    "box_auto = Box(children=items_auto, layout=box_layout)\n",
    "box_0 = Box(children=items_0, layout=box_layout)\n",
    "VBox([box_auto, box_0])"
   ]
  },
  {
   "cell_type": "markdown",
   "metadata": {},
   "source": [
    "**A more advanced example: a reactive form.**\n",
    "\n",
    "The form is a `VBox` of width '50%'. Each row in the VBox is an HBox, that justifies the content with space between.."
   ]
  },
  {
   "cell_type": "code",
   "execution_count": 7,
   "metadata": {},
   "outputs": [
    {
     "data": {
      "application/vnd.jupyter.widget-view+json": {
       "model_id": "d4501d6eeaf543cf872fed3426d2e02a",
       "version_major": 2,
       "version_minor": 0
      },
      "text/plain": [
       "Box(children=(Box(children=(Label(value='Age of the captain'), IntSlider(value=40, max=60, min=40)), layout=La…"
      ]
     },
     "metadata": {},
     "output_type": "display_data"
    }
   ],
   "source": [
    "from ipywidgets import Layout, Button, Box, FloatText, Textarea, Dropdown, Label, IntSlider\n",
    "\n",
    "form_item_layout = Layout(\n",
    "    display='flex',\n",
    "    flex_flow='row',\n",
    "    justify_content='space-between'\n",
    ")\n",
    "\n",
    "form_items = [\n",
    "    Box([Label(value='Age of the captain'), IntSlider(min=40, max=60)], layout=form_item_layout),\n",
    "    Box([Label(value='Egg style'), \n",
    "         Dropdown(options=['Scrambled', 'Sunny side up', 'Over easy'])], layout=form_item_layout),\n",
    "    Box([Label(value='Ship size'), \n",
    "         FloatText()], layout=form_item_layout),\n",
    "    Box([Label(value='Information'), \n",
    "         Textarea()], layout=form_item_layout)\n",
    "]\n",
    "\n",
    "form = Box(form_items, layout=Layout(\n",
    "    display='flex',\n",
    "    flex_flow='column',\n",
    "    border='solid 2px',\n",
    "    align_items='stretch',\n",
    "    width='50%'\n",
    "))\n",
    "form"
   ]
  },
  {
   "cell_type": "markdown",
   "metadata": {},
   "source": [
    "**A more advanced example: a carousel.**"
   ]
  },
  {
   "cell_type": "code",
   "execution_count": 8,
   "metadata": {},
   "outputs": [
    {
     "data": {
      "application/vnd.jupyter.widget-view+json": {
       "model_id": "4bed3981a11f46cf8ae90f36aa1e5d95",
       "version_major": 2,
       "version_minor": 0
      },
      "text/plain": [
       "VBox(children=(Label(value='Scroll horizontally:'), Box(children=(Button(button_style='warning', description='…"
      ]
     },
     "metadata": {},
     "output_type": "display_data"
    }
   ],
   "source": [
    "from ipywidgets import Layout, Button, Box, Label\n",
    "\n",
    "item_layout = Layout(height='100px', min_width='40px')\n",
    "items = [Button(layout=item_layout, description=str(i), button_style='warning') for i in range(40)]\n",
    "box_layout = Layout(overflow_x='scroll',\n",
    "                    border='3px solid black',\n",
    "                    width='500px',\n",
    "                    height='',\n",
    "                    flex_flow='row',\n",
    "                    display='flex')\n",
    "carousel = Box(children=items, layout=box_layout)\n",
    "VBox([Label('Scroll horizontally:'), carousel])"
   ]
  },
  {
   "cell_type": "markdown",
   "metadata": {},
   "source": [
    "#### *Compatibility note*\n",
    "\n",
    "The `overflow_x` and `overflow_y` options are deprecated in ipywidgets `7.5`. Instead, use the shorthand property `overflow='scroll hidden'`. The first part specificies overflow in `x`, the second the overflow in `y`."
   ]
  },
  {
   "cell_type": "markdown",
   "metadata": {},
   "source": [
    "## A widget for exploring layout options\n",
    "\n",
    "Use the dropdowns and sliders in the widget to change the layout of the box containing the colored buttons. Many of the CSS layout options described above are available, and the Python code to generate a `Layout` object reflecting the settings is in a `TextArea` in the widget.\n",
    "\n",
    "A few questions to answer after the demonstration of this (see the [detailed flexbox guide for a longer discussion](reference_guides/guide-flex-box.ipynb)):\n",
    "\n",
    "1. What does changing `justify_content` affect? You may find it easier to answer this if you set `wrap` to `wrap`.\n",
    "2. What does `align_items` affect? \n",
    "3. How is `align_content` different than `align_items`?\n"
   ]
  },
  {
   "cell_type": "code",
   "execution_count": null,
   "metadata": {},
   "outputs": [],
   "source": [
    "from layout_preview import layout\n",
    "layout"
   ]
  },
  {
   "cell_type": "markdown",
   "metadata": {},
   "source": [
    "### Exercises"
   ]
  },
  {
   "cell_type": "markdown",
   "metadata": {},
   "source": [
    "**Four buttons in a box revisted: Change order and orientation**\n",
    "\n",
    "This example, from earlier in this notebook, lays out 4 buttons vertically.\n",
    "\n",
    "Flexbox allows you to change the order and orientation of the children items in the flexbox without changing the children themselves.\n",
    "\n",
    "1. Change the `flex_flow` so that the buttons are displayed in a single column in *reverse order*.\n",
    "2. Change the `flex_flow` so that the buttons are displayed in a single *row* instead of a column.\n",
    "3. Try setting a few values of `align_items` and describe how it affects the display of the buttons. \n",
    "4. Make the box narrower by changing the `width`, then change `flex_flow` to lay out the buttons in rows that wrap so that there is a 2x2 grid of buttons.\n",
    "\n",
    "Feel free to figure out the layout using the tool above and copy/paste the layout here!"
   ]
  },
  {
   "cell_type": "code",
   "execution_count": null,
   "metadata": {},
   "outputs": [],
   "source": [
    "from ipywidgets import Layout, Button, Box\n",
    "\n",
    "items_layout = Layout(width='auto')     # override the default width of the button to 'auto' to let the button grow\n",
    "\n",
    "box_layout = Layout(display='flex',\n",
    "                    flex_flow='column',  \n",
    "                    align_items='stretch', \n",
    "                    border='solid',\n",
    "                    width='20%')\n",
    "\n",
    "words = ['correct', 'horse', 'battery', 'staple']\n",
    "items = [Button(description=word, layout=items_layout, button_style='danger') for word in words]\n",
    "box = Box(children=items, layout=box_layout)\n",
    "box"
   ]
  },
  {
   "cell_type": "markdown",
   "metadata": {},
   "source": [
    "**Carousel revisted: item layout**\n",
    "\n",
    "The code that generated the carousel is reproduced below. Run the cell, then continue reading."
   ]
  },
  {
   "cell_type": "code",
   "execution_count": null,
   "metadata": {},
   "outputs": [],
   "source": [
    "from ipywidgets import Layout, Button, Box, Label\n",
    "\n",
    "item_layout = Layout(height='100px', min_width='40px')\n",
    "items = [Button(layout=item_layout, description=str(i), button_style='warning') for i in range(40)]\n",
    "box_layout = Layout(overflow_x='scroll',\n",
    "                    border='3px solid black',\n",
    "                    width='500px',\n",
    "                    height='',\n",
    "                    flex_flow='row',\n",
    "                    display='flex')\n",
    "carousel = Box(children=items, layout=box_layout)\n",
    "VBox([Label('Scroll horizontally:'), carousel])"
   ]
  },
  {
   "cell_type": "markdown",
   "metadata": {},
   "source": [
    "**To do:**\n",
    "\n",
    "+ Change the `min_width` for *one* of the `items`, say the first one. Does it affect only the first one, or all of them? Why?\n",
    "+ Change the `height` of *only* the first button. *Hint:* It needs its own `Layout`."
   ]
  },
  {
   "cell_type": "code",
   "execution_count": null,
   "metadata": {},
   "outputs": [],
   "source": [
    "items[0].layout.min_width = 'FILL IN WITH A WIDTH'"
   ]
  },
  {
   "cell_type": "markdown",
   "metadata": {},
   "source": [
    "## The Grid layout\n",
    "\n",
    "The `GridBox` class is a special case of the `Box` widget.\n",
    "\n",
    "The `Box` widget enables the entire CSS flexbox spec, enabling rich reactive layouts in the Jupyter notebook. It aims at providing an efficient way to lay out, align and distribute space among items in a container.\n",
    "\n",
    "A more detailed description of the [Grid layout is available](reference_guides/guide-grid-box.ipynb).\n",
    "\n",
    "The whole grid layout spec is exposed via the `layout` attribute of the container widget (`Box`) and the contained items. One may share the same `layout` attribute among all the contained items.\n",
    "\n",
    "The following flexbox tutorial on the flexbox layout follows the lines of the article [A Complete Guide to Grid](https://css-tricks.com/snippets/css/complete-guide-grid/) by Chris House, and uses text and various images from the article [with permission](https://css-tricks.com/license/).\n",
    "\n",
    "### Basics\n",
    "\n",
    "To get started you have to define a container element as a grid with display: grid, set the column and row sizes with grid-template-rows, grid-template-columns, and grid_template_areas, and then place its child elements into the grid with grid-column and grid-row. Similarly to flexbox, the source order of the grid items doesn't matter. Your CSS can place them in any order, which makes it super easy to rearrange your grid with media queries. Imagine defining the layout of your entire page, and then completely rearranging it to accommodate a different screen width all with only a couple lines of CSS. Grid is one of the most powerful CSS modules ever introduced.\n",
    "\n",
    "### Important terminology\n",
    "\n",
    "Before diving into the concepts of Grid it's important to understand the terminology. Since the terms involved here are all kinda conceptually similar, it's easy to confuse them with one another if you don't first memorize their meanings defined by the Grid specification. But don't worry, there aren't many of them.\n",
    "\n",
    "**Grid Container**\n",
    "\n",
    "The element on which `display: grid` is applied. It's the direct parent of all the grid items. In this example container is the grid container.\n",
    "\n",
    "```html\n",
    "<div class=\"container\">\n",
    "  <div class=\"item item-1\"></div>\n",
    "  <div class=\"item item-2\"></div>\n",
    "  <div class=\"item item-3\"></div>\n",
    "</div>\n",
    "```\n",
    "\n",
    "**Grid Item**\n",
    "\n",
    "The children (e.g. direct descendants) of the grid container. Here the item elements are grid items, but sub-item isn't.\n",
    "\n",
    "```html\n",
    "<div class=\"container\">\n",
    "  <div class=\"item\"></div> \n",
    "  <div class=\"item\">\n",
    "  \t<p class=\"sub-item\"></p>\n",
    "  </div>\n",
    "  <div class=\"item\"></div>\n",
    "</div>\n",
    "```\n",
    "\n",
    "**Grid Line**\n",
    "\n",
    "The dividing lines that make up the structure of the grid. They can be either vertical (\"column grid lines\") or horizontal (\"row grid lines\") and reside on either side of a row or column. Here the yellow line is an example of a column grid line.\n",
    "\n",
    "![grid-line](images/grid-line.png)\n",
    "\n",
    "**Grid Track**\n",
    "\n",
    "The space between two adjacent grid lines. You can think of them like the columns or rows of the grid. Here's the grid track between the second and third row grid lines.\n",
    "\n",
    "![grid-track](images/grid-track.png)\n",
    "\n",
    "A more detailed description of the [Grid layout is available](reference_guides/guide-grid-box.ipynb). The [Grid layout guide on MDN](https://developer.mozilla.org/en-US/docs/Web/CSS/CSS_Grid_Layout#Guides) is also excellent."
   ]
  },
  {
   "cell_type": "code",
   "execution_count": null,
   "metadata": {},
   "outputs": [],
   "source": [
    "from ipywidgets import Button, GridBox, Layout, ButtonStyle"
   ]
  },
  {
   "cell_type": "markdown",
   "metadata": {},
   "source": [
    "The first example defines a 3x3 grid and places 9 buttons into the grid. "
   ]
  },
  {
   "cell_type": "code",
   "execution_count": null,
   "metadata": {},
   "outputs": [],
   "source": [
    "GridBox(children=[Button(description=str(i), layout=Layout(width='auto', height='auto'),\n",
    "                         style=ButtonStyle(button_color='darkseagreen')) for i in range(9)\n",
    "                 ],\n",
    "        layout=Layout(\n",
    "            width='50%',\n",
    "            grid_template_columns='100px 50px 100px',\n",
    "            grid_template_rows='80px auto 80px', \n",
    "            grid_gap='5px 10px')\n",
    "       )"
   ]
  },
  {
   "cell_type": "markdown",
   "metadata": {},
   "source": [
    "### Exercises"
   ]
  },
  {
   "cell_type": "markdown",
   "metadata": {},
   "source": [
    "**Add more buttons**\n",
    "\n",
    "Modify the code above to place more buttons in the `GridBox` (do *not* modify the layout). Any number of buttons larger than 9 is fine.\n",
    "\n",
    "1. What happens to the extra buttons? Are they laid out like the first 9 buttons?\n",
    "\n",
    "The grid template defines a 3x3 grid. If additional children are placed in the grid their properties are determined by the layout properties `grid_auto_columns`, `grid_auto_rows` and `grid_auto_flow` properties.\n",
    "\n",
    "2. Set `grid_auto_rows=\"10px\"` and rerun the example with more than 9 buttons.\n",
    "\n",
    "3. Set `grid_auto_rows` so that the automatically added rows have the same format as the templated rows."
   ]
  },
  {
   "cell_type": "markdown",
   "metadata": {},
   "source": [
    "### An alternate way of defining the grid\n",
    "\n",
    "The grid can also be set up using a description words. The layout below defines a grid with 4 columns and 3 rows. The first row is a header, the bottom row is a footer, and the middle row has content in the first two columns, then an empty cell, followed by a sidebar.\n",
    "\n",
    "Widgets are assigned to each of these areas by setting the widgets's layout `grid_area` to the name of the area.\n",
    "\n",
    "```\n",
    "            \"header header header header\"\n",
    "            \"main main . sidebar \"\n",
    "            \"footer footer footer footer\"\n",
    "```"
   ]
  },
  {
   "cell_type": "code",
   "execution_count": null,
   "metadata": {},
   "outputs": [],
   "source": [
    "header  = Button(description='Header',\n",
    "                 layout=Layout(width='auto', grid_area='header'),\n",
    "                 style=ButtonStyle(button_color='lightblue'))\n",
    "main    = Button(description='Main',\n",
    "                 layout=Layout(width='auto', grid_area='main'),\n",
    "                 style=ButtonStyle(button_color='moccasin'))\n",
    "sidebar = Button(description='Sidebar',\n",
    "                 layout=Layout(width='auto', grid_area='sidebar'),\n",
    "                 style=ButtonStyle(button_color='salmon'))\n",
    "footer  = Button(description='Footer',\n",
    "                 layout=Layout(width='auto', grid_area='footer'),\n",
    "                 style=ButtonStyle(button_color='olive'))\n",
    "\n",
    "GridBox(children=[header, main, sidebar, footer],\n",
    "        layout=Layout(\n",
    "            width='50%',\n",
    "            grid_template_rows='auto auto auto',\n",
    "            grid_template_columns='25% 25% 25% 25%',\n",
    "            grid_template_areas='''\n",
    "            \"header header header header\"\n",
    "            \"main main . sidebar \"\n",
    "            \"footer footer footer footer\"\n",
    "            ''')\n",
    "       )"
   ]
  },
  {
   "cell_type": "markdown",
   "metadata": {},
   "source": [
    "### Exercises"
   ]
  },
  {
   "cell_type": "markdown",
   "metadata": {},
   "source": [
    "**Make the main area larger**\n",
    "\n",
    "1. Add another row or two to the template area so that the main area is 3 rows high and 2 columns wide. "
   ]
  }
 ],
 "metadata": {
  "kernelspec": {
   "display_name": "Python 3",
   "language": "python",
   "name": "python3"
  },
  "language_info": {
   "codemirror_mode": {
    "name": "ipython",
    "version": 3
   },
   "file_extension": ".py",
   "mimetype": "text/x-python",
   "name": "python",
   "nbconvert_exporter": "python",
   "pygments_lexer": "ipython3",
   "version": "3.7.6"
  },
  "widgets": {
   "application/vnd.jupyter.widget-state+json": {
    "state": {
     "00381ebf362b46c58b27e15af0635f7d": {
      "model_module": "@jupyter-widgets/controls",
      "model_module_version": "1.5.0",
      "model_name": "DescriptionStyleModel",
      "state": {
       "description_width": ""
      }
     },
     "0314d4c5fe8b483fa38a4168bf00b524": {
      "model_module": "@jupyter-widgets/base",
      "model_module_version": "1.2.0",
      "model_name": "LayoutModel",
      "state": {
       "align_items": "stretch",
       "border": "solid 2px",
       "display": "flex",
       "flex_flow": "column",
       "width": "50%"
      }
     },
     "056b2da901a94da09d4a324809314f10": {
      "model_module": "@jupyter-widgets/controls",
      "model_module_version": "1.5.0",
      "model_name": "BoxModel",
      "state": {
       "children": [
        "IPY_MODEL_5015e694446b477e929d5aaad33adcf8",
        "IPY_MODEL_62680f7e84754040846c926d22bb46ea",
        "IPY_MODEL_a006fe20fe8e4322816f4f07b1a28910"
       ],
       "layout": "IPY_MODEL_468abffc98de490f98cf5b5066740eaa"
      }
     },
     "070a608f311f44dda069d4c1dbedb09d": {
      "model_module": "@jupyter-widgets/controls",
      "model_module_version": "1.5.0",
      "model_name": "BoxModel",
      "state": {
       "children": [
        "IPY_MODEL_fbeff674330b4ffbb3ec1bdca1b7a044",
        "IPY_MODEL_7fccd83f6f4c499985cb90271f0f7da7",
        "IPY_MODEL_44d3bdf4f33e454e816d756664341bf4",
        "IPY_MODEL_91f86cb838b444c6a92e44d8317433d1",
        "IPY_MODEL_fa5088ba672345caaf95140a3bfc46a5",
        "IPY_MODEL_275a2df1a009420aaea87130a75d8811",
        "IPY_MODEL_a1956111b9bf4bb79467b22b2b4f4d68",
        "IPY_MODEL_e2eb4ec513e846efa10d14ed147a54a8",
        "IPY_MODEL_5452f5fa417849a7b3dde02d50b23598",
        "IPY_MODEL_3758d708fa9e476fb1123e1cc4ca7e4a",
        "IPY_MODEL_c164f9cc1edc47b3ab51bb85bbd50968",
        "IPY_MODEL_d0d0b72a6117400bbcdbdcbfe98e140c",
        "IPY_MODEL_43693678befe4fa283a41d1683cfc858",
        "IPY_MODEL_3cd09fc03c6341b3b1803bc062dae526",
        "IPY_MODEL_847844a27fb54476823d7dd3c37bb402",
        "IPY_MODEL_ca3d3e82d8e34fbf8720560096b2dfab",
        "IPY_MODEL_f28b5e435e0645e1889a95d709062d76",
        "IPY_MODEL_b718b0bc5dec432d91db387d67234822",
        "IPY_MODEL_ac43f8d164b142aba78196acaa5e1a3f",
        "IPY_MODEL_a875fb024b504d1895ccdd211c3078b8",
        "IPY_MODEL_d6a922155bf54d0787dfd029fa8e2ef2",
        "IPY_MODEL_d0544bf697a4465780b7739190bb3889",
        "IPY_MODEL_67e57d556a6d4b3abe8896f478a8d611",
        "IPY_MODEL_4e771437afff4c948c99452aa13fe887",
        "IPY_MODEL_5a581b62fdf747d6aba108083270d44e",
        "IPY_MODEL_b00c88467ba047a9a96304f74c7a1a5c",
        "IPY_MODEL_fc2fda6816a04a7ba7080a7743877d30",
        "IPY_MODEL_f7223cf73c5946928c843f6dd623085e",
        "IPY_MODEL_ae61f31461e64b5287f79d3553dd562e",
        "IPY_MODEL_15ec0646099d40a78625fbde0d79105f",
        "IPY_MODEL_7a669bf5c7864ea5aaadbd695c353d56",
        "IPY_MODEL_2c2b233b39284457b325ea34ade5534f",
        "IPY_MODEL_e3615c96251a496f8fcb8f498be82036",
        "IPY_MODEL_67f3ed95da9c4601b6713d2d05f0ab8e",
        "IPY_MODEL_57698af82a82422baf03aa28b3cea8dd",
        "IPY_MODEL_b1ecf85d564747818525d3c88b8758ce",
        "IPY_MODEL_87859df262be4543b105686a30a15d4e",
        "IPY_MODEL_8c87e3db2740494e918067b045eebbec",
        "IPY_MODEL_1bee8d8c574f4b0aac7f350ffed49b59",
        "IPY_MODEL_8bfce12a8cb448a7bbbeba63324db3bc"
       ],
       "layout": "IPY_MODEL_c0ff83c14bab44ca9a5ca27b2bfc4f74"
      }
     },
     "071596c0a99c4786ad2305148b5c3b97": {
      "model_module": "@jupyter-widgets/base",
      "model_module_version": "1.2.0",
      "model_name": "LayoutModel",
      "state": {}
     },
     "0854ac60f504427a89904d707d2bcaaf": {
      "model_module": "@jupyter-widgets/controls",
      "model_module_version": "1.5.0",
      "model_name": "ButtonStyleModel",
      "state": {}
     },
     "104aace22f6746bca8f0a3d5e171d0fe": {
      "model_module": "@jupyter-widgets/controls",
      "model_module_version": "1.5.0",
      "model_name": "ButtonStyleModel",
      "state": {}
     },
     "125848e84150414dac6c63adc2ff0d48": {
      "model_module": "@jupyter-widgets/base",
      "model_module_version": "1.2.0",
      "model_name": "LayoutModel",
      "state": {}
     },
     "12b19cc7a16a4ce889151a1678040de5": {
      "model_module": "@jupyter-widgets/base",
      "model_module_version": "1.2.0",
      "model_name": "LayoutModel",
      "state": {
       "height": "25px",
       "min_height": "20px",
       "min_width": "30px",
       "width": "60px"
      }
     },
     "14d63dab687142db818bfc5c66e205ea": {
      "model_module": "@jupyter-widgets/base",
      "model_module_version": "1.2.0",
      "model_name": "LayoutModel",
      "state": {
       "flex": "1 1 0%",
       "width": "auto"
      }
     },
     "1523f8a8d86a40d499d7dac0320ad310": {
      "model_module": "@jupyter-widgets/controls",
      "model_module_version": "1.5.0",
      "model_name": "DescriptionStyleModel",
      "state": {
       "description_width": ""
      }
     },
     "15ec0646099d40a78625fbde0d79105f": {
      "model_module": "@jupyter-widgets/controls",
      "model_module_version": "1.5.0",
      "model_name": "ButtonModel",
      "state": {
       "button_style": "warning",
       "description": "29",
       "layout": "IPY_MODEL_21b83c73fff04041ac3d6db5359601da",
       "style": "IPY_MODEL_3b5336433fb1493e89bfbf17fe71d486"
      }
     },
     "162b938103cb4c239090da08b2534a7c": {
      "model_module": "@jupyter-widgets/base",
      "model_module_version": "1.2.0",
      "model_name": "LayoutModel",
      "state": {}
     },
     "1af7923b9ddc48178814334ad9b30c7c": {
      "model_module": "@jupyter-widgets/base",
      "model_module_version": "1.2.0",
      "model_name": "LayoutModel",
      "state": {
       "height": "67px",
       "min_height": "20px",
       "min_width": "30px",
       "width": "60px"
      }
     },
     "1bee8d8c574f4b0aac7f350ffed49b59": {
      "model_module": "@jupyter-widgets/controls",
      "model_module_version": "1.5.0",
      "model_name": "ButtonModel",
      "state": {
       "button_style": "warning",
       "description": "38",
       "layout": "IPY_MODEL_21b83c73fff04041ac3d6db5359601da",
       "style": "IPY_MODEL_cd2a60e48c7b48849a3fbf0c3599aa8d"
      }
     },
     "1c5ca22ecd9746469baf560bfb394803": {
      "model_module": "@jupyter-widgets/controls",
      "model_module_version": "1.5.0",
      "model_name": "ButtonModel",
      "state": {
       "button_style": "success",
       "description": "16",
       "layout": "IPY_MODEL_d4911a92d64044608fe371c471a73fd5",
       "style": "IPY_MODEL_2bedd7dfd7a442a298b5959533f3d551"
      }
     },
     "1cce52ffc67b454bbfc9d8df5c1cffb6": {
      "model_module": "@jupyter-widgets/controls",
      "model_module_version": "1.5.0",
      "model_name": "ButtonStyleModel",
      "state": {}
     },
     "1f9e11a2164543939aff7e0964100e0d": {
      "model_module": "@jupyter-widgets/controls",
      "model_module_version": "1.5.0",
      "model_name": "ButtonStyleModel",
      "state": {}
     },
     "1febe43856a04960bdf17636b74d1d5d": {
      "model_module": "@jupyter-widgets/controls",
      "model_module_version": "1.5.0",
      "model_name": "ButtonStyleModel",
      "state": {}
     },
     "21b83c73fff04041ac3d6db5359601da": {
      "model_module": "@jupyter-widgets/base",
      "model_module_version": "1.2.0",
      "model_name": "LayoutModel",
      "state": {
       "height": "100px",
       "min_width": "40px"
      }
     },
     "22f56361b0d741aea3246ccfa61b6f30": {
      "model_module": "@jupyter-widgets/controls",
      "model_module_version": "1.5.0",
      "model_name": "LabelModel",
      "state": {
       "layout": "IPY_MODEL_dc91b25d10a54f0cad46ad8e2a91d63d",
       "style": "IPY_MODEL_cc82d8ddee0f4ca085eec4607174c72e",
       "value": "Scroll horizontally:"
      }
     },
     "26cd525c9c184d70b5baf26c8def190e": {
      "model_module": "@jupyter-widgets/controls",
      "model_module_version": "1.5.0",
      "model_name": "ButtonStyleModel",
      "state": {}
     },
     "275a2df1a009420aaea87130a75d8811": {
      "model_module": "@jupyter-widgets/controls",
      "model_module_version": "1.5.0",
      "model_name": "ButtonModel",
      "state": {
       "button_style": "warning",
       "description": "5",
       "layout": "IPY_MODEL_21b83c73fff04041ac3d6db5359601da",
       "style": "IPY_MODEL_601f37c0b1b34b168b8b81793ecfd395"
      }
     },
     "27dd213b28ac47e9a422c75b5780ded1": {
      "model_module": "@jupyter-widgets/controls",
      "model_module_version": "1.5.0",
      "model_name": "ButtonStyleModel",
      "state": {}
     },
     "2a77815753ba4587894397b8d8538641": {
      "model_module": "@jupyter-widgets/controls",
      "model_module_version": "1.5.0",
      "model_name": "ButtonModel",
      "state": {
       "button_style": "danger",
       "description": "weight=1; auto",
       "layout": "IPY_MODEL_b3e55d14b9574347927240261303cb0c",
       "style": "IPY_MODEL_1febe43856a04960bdf17636b74d1d5d"
      }
     },
     "2ab14825c41945c08ce2de417b1f8485": {
      "model_module": "@jupyter-widgets/base",
      "model_module_version": "1.2.0",
      "model_name": "LayoutModel",
      "state": {
       "flex": "3 1 auto",
       "width": "auto"
      }
     },
     "2bedd7dfd7a442a298b5959533f3d551": {
      "model_module": "@jupyter-widgets/controls",
      "model_module_version": "1.5.0",
      "model_name": "ButtonStyleModel",
      "state": {}
     },
     "2c063cab65794e55a014ec19b1aba4c8": {
      "model_module": "@jupyter-widgets/controls",
      "model_module_version": "1.5.0",
      "model_name": "ButtonStyleModel",
      "state": {}
     },
     "2c0de4c1d93743e7a47dfc2465dbc693": {
      "model_module": "@jupyter-widgets/base",
      "model_module_version": "1.2.0",
      "model_name": "LayoutModel",
      "state": {}
     },
     "2c2b233b39284457b325ea34ade5534f": {
      "model_module": "@jupyter-widgets/controls",
      "model_module_version": "1.5.0",
      "model_name": "ButtonModel",
      "state": {
       "button_style": "warning",
       "description": "31",
       "layout": "IPY_MODEL_21b83c73fff04041ac3d6db5359601da",
       "style": "IPY_MODEL_4f6f37d3ffb0411d8baea87275777ebb"
      }
     },
     "2d2b20d2d2154f90a3d32ebf6010d5a4": {
      "model_module": "@jupyter-widgets/controls",
      "model_module_version": "1.5.0",
      "model_name": "ButtonStyleModel",
      "state": {}
     },
     "304292fbce114dac975fb0188623a91f": {
      "model_module": "@jupyter-widgets/controls",
      "model_module_version": "1.5.0",
      "model_name": "ButtonStyleModel",
      "state": {}
     },
     "32f3ad84362e44a1855f463c459def1c": {
      "model_module": "@jupyter-widgets/controls",
      "model_module_version": "1.5.0",
      "model_name": "ButtonStyleModel",
      "state": {}
     },
     "354f567506cd49a788b5bd0f2ae3fdb6": {
      "model_module": "@jupyter-widgets/controls",
      "model_module_version": "1.5.0",
      "model_name": "DropdownModel",
      "state": {
       "_options_labels": [
        "scroll",
        "hidden",
        "auto",
        "visible",
        "initial",
        "inherit"
       ],
       "description": "overflow_x:",
       "index": null,
       "layout": "IPY_MODEL_f5f1dd6dab904b359593304d7591d904",
       "style": "IPY_MODEL_b862f5b23e754bd9991ffcc4bec01760"
      }
     },
     "356c42bb023740a2ab21c71b985c339a": {
      "model_module": "@jupyter-widgets/controls",
      "model_module_version": "1.5.0",
      "model_name": "DescriptionStyleModel",
      "state": {
       "description_width": ""
      }
     },
     "366504f61f264a6095c9829443f7612d": {
      "model_module": "@jupyter-widgets/controls",
      "model_module_version": "1.5.0",
      "model_name": "ButtonStyleModel",
      "state": {}
     },
     "3758d708fa9e476fb1123e1cc4ca7e4a": {
      "model_module": "@jupyter-widgets/controls",
      "model_module_version": "1.5.0",
      "model_name": "ButtonModel",
      "state": {
       "button_style": "warning",
       "description": "9",
       "layout": "IPY_MODEL_21b83c73fff04041ac3d6db5359601da",
       "style": "IPY_MODEL_a5f33e90249d4b7e90550d826673eb37"
      }
     },
     "37eab9a5440f452eb39074ea6fd6bca9": {
      "model_module": "@jupyter-widgets/controls",
      "model_module_version": "1.5.0",
      "model_name": "ButtonStyleModel",
      "state": {}
     },
     "38324458628045abafbd2aed9441a4a5": {
      "model_module": "@jupyter-widgets/base",
      "model_module_version": "1.2.0",
      "model_name": "LayoutModel",
      "state": {
       "height": "67px",
       "min_height": "20px",
       "min_width": "30px",
       "width": "60px"
      }
     },
     "3b5336433fb1493e89bfbf17fe71d486": {
      "model_module": "@jupyter-widgets/controls",
      "model_module_version": "1.5.0",
      "model_name": "ButtonStyleModel",
      "state": {}
     },
     "3bb79ee4d15b40aba476698fdf5bf3df": {
      "model_module": "@jupyter-widgets/controls",
      "model_module_version": "1.5.0",
      "model_name": "ButtonStyleModel",
      "state": {}
     },
     "3cd09fc03c6341b3b1803bc062dae526": {
      "model_module": "@jupyter-widgets/controls",
      "model_module_version": "1.5.0",
      "model_name": "ButtonModel",
      "state": {
       "button_style": "warning",
       "description": "13",
       "layout": "IPY_MODEL_21b83c73fff04041ac3d6db5359601da",
       "style": "IPY_MODEL_6389ec87b80d44d8aaabd8df466054c1"
      }
     },
     "3cf2fc67c4414ea0b6fc6a903a9b25ce": {
      "model_module": "@jupyter-widgets/controls",
      "model_module_version": "1.5.0",
      "model_name": "DescriptionStyleModel",
      "state": {
       "description_width": ""
      }
     },
     "3d269a2eff574784b4915b03574bcd91": {
      "model_module": "@jupyter-widgets/controls",
      "model_module_version": "1.5.0",
      "model_name": "ButtonStyleModel",
      "state": {}
     },
     "3e867559c3d34e1099c9a9d921f48e9c": {
      "model_module": "@jupyter-widgets/controls",
      "model_module_version": "1.5.0",
      "model_name": "BoxModel",
      "state": {
       "children": [
        "IPY_MODEL_5878f7681aa84d2c9b51bf7db3db4049",
        "IPY_MODEL_59a86e17c259488abea2d80198d265c7",
        "IPY_MODEL_b165220032a74bce83576e313ddcedba",
        "IPY_MODEL_54168d3f88ea4b888f1bd86127dceb01"
       ],
       "layout": "IPY_MODEL_bdc1d04d226042bb8b936f31d50730ae"
      }
     },
     "412c9a36c2f44f83a87589f36059b73d": {
      "model_module": "@jupyter-widgets/controls",
      "model_module_version": "1.5.0",
      "model_name": "ButtonStyleModel",
      "state": {}
     },
     "4140369a4e2e49589bf157b0199e56cf": {
      "model_module": "@jupyter-widgets/base",
      "model_module_version": "1.2.0",
      "model_name": "LayoutModel",
      "state": {
       "height": "20px",
       "min_height": "20px",
       "min_width": "30px",
       "width": "60px"
      }
     },
     "42d8db4e3ad145809536a3dd764c75f7": {
      "model_module": "@jupyter-widgets/controls",
      "model_module_version": "1.5.0",
      "model_name": "DescriptionStyleModel",
      "state": {
       "description_width": ""
      }
     },
     "42d91af8b53a4e8b9f33aa383334cd77": {
      "model_module": "@jupyter-widgets/controls",
      "model_module_version": "1.5.0",
      "model_name": "ButtonModel",
      "state": {
       "button_style": "warning",
       "description": "13",
       "layout": "IPY_MODEL_5495c64ab2254792a6b7513b4d669edb",
       "style": "IPY_MODEL_d34debe912894124bfed82b115322b71"
      }
     },
     "42f3d23924a4457da3baeacf68c12070": {
      "model_module": "@jupyter-widgets/base",
      "model_module_version": "1.2.0",
      "model_name": "LayoutModel",
      "state": {}
     },
     "435ab02ea3584553ac6d38ed9f7267ed": {
      "model_module": "@jupyter-widgets/controls",
      "model_module_version": "1.5.0",
      "model_name": "ButtonModel",
      "state": {
       "description": "staple",
       "layout": "IPY_MODEL_162b938103cb4c239090da08b2534a7c",
       "style": "IPY_MODEL_5b3631728dc74acd868f72fea3ade1c9"
      }
     },
     "43693678befe4fa283a41d1683cfc858": {
      "model_module": "@jupyter-widgets/controls",
      "model_module_version": "1.5.0",
      "model_name": "ButtonModel",
      "state": {
       "button_style": "warning",
       "description": "12",
       "layout": "IPY_MODEL_21b83c73fff04041ac3d6db5359601da",
       "style": "IPY_MODEL_32f3ad84362e44a1855f463c459def1c"
      }
     },
     "44d3bdf4f33e454e816d756664341bf4": {
      "model_module": "@jupyter-widgets/controls",
      "model_module_version": "1.5.0",
      "model_name": "ButtonModel",
      "state": {
       "button_style": "warning",
       "description": "2",
       "layout": "IPY_MODEL_21b83c73fff04041ac3d6db5359601da",
       "style": "IPY_MODEL_d446ff57a1764c88967468198ce4c826"
      }
     },
     "451489b0bb804fa28e8d0216ef52c2dc": {
      "model_module": "@jupyter-widgets/controls",
      "model_module_version": "1.5.0",
      "model_name": "DescriptionStyleModel",
      "state": {
       "description_width": ""
      }
     },
     "45a1755adf684ad39727ad94f159fafd": {
      "model_module": "@jupyter-widgets/controls",
      "model_module_version": "1.5.0",
      "model_name": "ButtonModel",
      "state": {
       "button_style": "success",
       "description": "1",
       "layout": "IPY_MODEL_38324458628045abafbd2aed9441a4a5",
       "style": "IPY_MODEL_b2ba6b94553e4fa187f2da9e1cac6647"
      }
     },
     "468abffc98de490f98cf5b5066740eaa": {
      "model_module": "@jupyter-widgets/base",
      "model_module_version": "1.2.0",
      "model_name": "LayoutModel",
      "state": {
       "align_items": "stretch",
       "display": "flex",
       "flex_flow": "row",
       "width": "70%"
      }
     },
     "46e825e13c7340238a7ffe8e47f1214a": {
      "model_module": "@jupyter-widgets/controls",
      "model_module_version": "1.5.0",
      "model_name": "DescriptionStyleModel",
      "state": {
       "description_width": ""
      }
     },
     "4817e083597549019586fcd38279ef94": {
      "model_module": "@jupyter-widgets/controls",
      "model_module_version": "1.5.0",
      "model_name": "ButtonStyleModel",
      "state": {}
     },
     "4820b2da1a12404f8b5044a5886597a3": {
      "model_module": "@jupyter-widgets/controls",
      "model_module_version": "1.5.0",
      "model_name": "ButtonStyleModel",
      "state": {}
     },
     "48fd6458621642d192c6ee5cd1747dad": {
      "model_module": "@jupyter-widgets/controls",
      "model_module_version": "1.5.0",
      "model_name": "ButtonModel",
      "state": {
       "button_style": "warning",
       "description": "3",
       "layout": "IPY_MODEL_b5fc9ad1a9fc41cf9269ebd827b54f8a",
       "style": "IPY_MODEL_fb12255a5f5b4a619d5cc0f8d84f9dc5"
      }
     },
     "4bed3981a11f46cf8ae90f36aa1e5d95": {
      "model_module": "@jupyter-widgets/controls",
      "model_module_version": "1.5.0",
      "model_name": "VBoxModel",
      "state": {
       "children": [
        "IPY_MODEL_22f56361b0d741aea3246ccfa61b6f30",
        "IPY_MODEL_070a608f311f44dda069d4c1dbedb09d"
       ],
       "layout": "IPY_MODEL_5256263cd0bc4cfcb0ec02a84923eb54"
      }
     },
     "4dd8d047e3834a5a9ac7ca56dd994138": {
      "model_module": "@jupyter-widgets/controls",
      "model_module_version": "1.5.0",
      "model_name": "DescriptionStyleModel",
      "state": {
       "description_width": ""
      }
     },
     "4e771437afff4c948c99452aa13fe887": {
      "model_module": "@jupyter-widgets/controls",
      "model_module_version": "1.5.0",
      "model_name": "ButtonModel",
      "state": {
       "button_style": "warning",
       "description": "23",
       "layout": "IPY_MODEL_21b83c73fff04041ac3d6db5359601da",
       "style": "IPY_MODEL_97ac4cfc13544eee99dd85977c98039c"
      }
     },
     "4f26cbc46e5641d7bb6d3ba237f2f0d6": {
      "model_module": "@jupyter-widgets/controls",
      "model_module_version": "1.5.0",
      "model_name": "ButtonStyleModel",
      "state": {}
     },
     "4f6f37d3ffb0411d8baea87275777ebb": {
      "model_module": "@jupyter-widgets/controls",
      "model_module_version": "1.5.0",
      "model_name": "ButtonStyleModel",
      "state": {}
     },
     "5015e694446b477e929d5aaad33adcf8": {
      "model_module": "@jupyter-widgets/controls",
      "model_module_version": "1.5.0",
      "model_name": "ButtonModel",
      "state": {
       "button_style": "danger",
       "description": "weight=1; 0%",
       "layout": "IPY_MODEL_9192a408b1904aebb48c78d1d2c91078",
       "style": "IPY_MODEL_ae74ee503e0d4738a3e19c5ab6217e55"
      }
     },
     "51d5e3a5132945bea6b21d03a27d82ee": {
      "model_module": "@jupyter-widgets/controls",
      "model_module_version": "1.5.0",
      "model_name": "ButtonModel",
      "state": {
       "button_style": "danger",
       "description": "weight=1; auto",
       "layout": "IPY_MODEL_94bcdaf37c374fd4a6658d0f3bcf5f80",
       "style": "IPY_MODEL_fc29c1209fe94a928dbfeb948ff39248"
      }
     },
     "5256263cd0bc4cfcb0ec02a84923eb54": {
      "model_module": "@jupyter-widgets/base",
      "model_module_version": "1.2.0",
      "model_name": "LayoutModel",
      "state": {}
     },
     "52b96006e3e44f908697e6241118be3e": {
      "model_module": "@jupyter-widgets/base",
      "model_module_version": "1.2.0",
      "model_name": "LayoutModel",
      "state": {}
     },
     "52bf2033cbcb4dadb6e4518c9eb16d2d": {
      "model_module": "@jupyter-widgets/controls",
      "model_module_version": "1.5.0",
      "model_name": "ButtonModel",
      "state": {
       "button_style": "info",
       "description": "17",
       "layout": "IPY_MODEL_9b0c46198f944e42b08f720dd517cc81",
       "style": "IPY_MODEL_4f26cbc46e5641d7bb6d3ba237f2f0d6"
      }
     },
     "535aeef2b7b244968b31b66f1384dd7c": {
      "model_module": "@jupyter-widgets/controls",
      "model_module_version": "1.5.0",
      "model_name": "ButtonStyleModel",
      "state": {}
     },
     "53773cb68fa242d29f03dbcd042c39f7": {
      "model_module": "@jupyter-widgets/controls",
      "model_module_version": "1.5.0",
      "model_name": "ButtonStyleModel",
      "state": {}
     },
     "54168d3f88ea4b888f1bd86127dceb01": {
      "model_module": "@jupyter-widgets/controls",
      "model_module_version": "1.5.0",
      "model_name": "ButtonModel",
      "state": {
       "button_style": "danger",
       "description": "staple",
       "layout": "IPY_MODEL_8fa4ac2a2015477eaf09202ac1481a29",
       "style": "IPY_MODEL_8827fc58117b46e7b82e3556b9f19650"
      }
     },
     "5452f5fa417849a7b3dde02d50b23598": {
      "model_module": "@jupyter-widgets/controls",
      "model_module_version": "1.5.0",
      "model_name": "ButtonModel",
      "state": {
       "button_style": "warning",
       "description": "8",
       "layout": "IPY_MODEL_21b83c73fff04041ac3d6db5359601da",
       "style": "IPY_MODEL_5750df68cbff4c189be6a0dac946ecff"
      }
     },
     "5495c64ab2254792a6b7513b4d669edb": {
      "model_module": "@jupyter-widgets/base",
      "model_module_version": "1.2.0",
      "model_name": "LayoutModel",
      "state": {
       "height": "80px",
       "min_height": "20px",
       "min_width": "30px",
       "width": "60px"
      }
     },
     "54bf870d374f4e458fc40b33f7437e7c": {
      "model_module": "@jupyter-widgets/controls",
      "model_module_version": "1.5.0",
      "model_name": "ButtonStyleModel",
      "state": {}
     },
     "55c17dab53a34538a255c7cdfe996c4c": {
      "model_module": "@jupyter-widgets/base",
      "model_module_version": "1.2.0",
      "model_name": "LayoutModel",
      "state": {
       "border": "2px dotted blue",
       "height": "80px",
       "max_width": "20%",
       "min_width": "10%",
       "width": "50%"
      }
     },
     "572f6b86ee364477807ddc34fb744cb3": {
      "model_module": "@jupyter-widgets/controls",
      "model_module_version": "1.5.0",
      "model_name": "LabelModel",
      "state": {
       "layout": "IPY_MODEL_d924c078af19440cb87f22a3b3b0b93e",
       "style": "IPY_MODEL_356c42bb023740a2ab21c71b985c339a",
       "value": "Information"
      }
     },
     "5749a40347c14e4e824ea078789d249c": {
      "model_module": "@jupyter-widgets/controls",
      "model_module_version": "1.5.0",
      "model_name": "BoxModel",
      "state": {
       "children": [
        "IPY_MODEL_928d3b3deca1444a96ab125aca8184f5",
        "IPY_MODEL_45a1755adf684ad39727ad94f159fafd",
        "IPY_MODEL_d4255d2b26d84ce1af34b7a8f47486f4",
        "IPY_MODEL_48fd6458621642d192c6ee5cd1747dad",
        "IPY_MODEL_a645f816667b4edfb5e0cb93c74802e8",
        "IPY_MODEL_c9d4a94f5e4645a39fb303a0d011b46f",
        "IPY_MODEL_8ebb71ff21d24e0c968d77ac7ead38bc",
        "IPY_MODEL_d8c748ea5fba4361abb2c065a5e1fedd",
        "IPY_MODEL_e46faded40e242eb917a846c3b744fc8",
        "IPY_MODEL_a5d71312859144c7b55faea69912872b",
        "IPY_MODEL_fb56141a930b434ab1ef299e39cdf19b",
        "IPY_MODEL_953dbb6f93fd4afcafe1da6aa403167a",
        "IPY_MODEL_fe3f630834404b869b3ce282dd0e1b63",
        "IPY_MODEL_42d91af8b53a4e8b9f33aa383334cd77",
        "IPY_MODEL_702ef5a309bb4c4aa8b1194dd2eea264",
        "IPY_MODEL_6ba710487c154162bc94d7c0cb21e749",
        "IPY_MODEL_1c5ca22ecd9746469baf560bfb394803",
        "IPY_MODEL_52bf2033cbcb4dadb6e4518c9eb16d2d"
       ],
       "layout": "IPY_MODEL_85609c859f3c4459b93b4ff2e249ea40"
      }
     },
     "5750df68cbff4c189be6a0dac946ecff": {
      "model_module": "@jupyter-widgets/controls",
      "model_module_version": "1.5.0",
      "model_name": "ButtonStyleModel",
      "state": {}
     },
     "57698af82a82422baf03aa28b3cea8dd": {
      "model_module": "@jupyter-widgets/controls",
      "model_module_version": "1.5.0",
      "model_name": "ButtonModel",
      "state": {
       "button_style": "warning",
       "description": "34",
       "layout": "IPY_MODEL_21b83c73fff04041ac3d6db5359601da",
       "style": "IPY_MODEL_66493e1f41f049b6b43a46a5dd81572a"
      }
     },
     "5878f7681aa84d2c9b51bf7db3db4049": {
      "model_module": "@jupyter-widgets/controls",
      "model_module_version": "1.5.0",
      "model_name": "ButtonModel",
      "state": {
       "button_style": "danger",
       "description": "correct",
       "layout": "IPY_MODEL_8fa4ac2a2015477eaf09202ac1481a29",
       "style": "IPY_MODEL_baf8faf5661047cfa9535f4039cd12c3"
      }
     },
     "59954b1930364e6585952f06857f12ec": {
      "model_module": "@jupyter-widgets/base",
      "model_module_version": "1.2.0",
      "model_name": "LayoutModel",
      "state": {}
     },
     "59a86e17c259488abea2d80198d265c7": {
      "model_module": "@jupyter-widgets/controls",
      "model_module_version": "1.5.0",
      "model_name": "ButtonModel",
      "state": {
       "button_style": "danger",
       "description": "horse",
       "layout": "IPY_MODEL_8fa4ac2a2015477eaf09202ac1481a29",
       "style": "IPY_MODEL_a726c4addc4d4a54a006bb01d3f53b11"
      }
     },
     "5a581b62fdf747d6aba108083270d44e": {
      "model_module": "@jupyter-widgets/controls",
      "model_module_version": "1.5.0",
      "model_name": "ButtonModel",
      "state": {
       "button_style": "warning",
       "description": "24",
       "layout": "IPY_MODEL_21b83c73fff04041ac3d6db5359601da",
       "style": "IPY_MODEL_60b43e77df014702b32baf8db7a85180"
      }
     },
     "5a759997f1614f96a8dc0294590ac0bd": {
      "model_module": "@jupyter-widgets/controls",
      "model_module_version": "1.5.0",
      "model_name": "TextModel",
      "state": {
       "description": "overflow",
       "disabled": true,
       "layout": "IPY_MODEL_e4f201e6a8cd4d568e888004ead21245",
       "style": "IPY_MODEL_3cf2fc67c4414ea0b6fc6a903a9b25ce",
       "value": "scroll scroll"
      }
     },
     "5b3631728dc74acd868f72fea3ade1c9": {
      "model_module": "@jupyter-widgets/controls",
      "model_module_version": "1.5.0",
      "model_name": "ButtonStyleModel",
      "state": {}
     },
     "5d70bd0d1ace406bb9500703ce626b03": {
      "model_module": "@jupyter-widgets/base",
      "model_module_version": "1.2.0",
      "model_name": "LayoutModel",
      "state": {
       "height": "80px",
       "min_height": "20px",
       "min_width": "30px",
       "width": "60px"
      }
     },
     "601f37c0b1b34b168b8b81793ecfd395": {
      "model_module": "@jupyter-widgets/controls",
      "model_module_version": "1.5.0",
      "model_name": "ButtonStyleModel",
      "state": {}
     },
     "6043a6ba9f1e4b3d9125ed2a8b094fdc": {
      "model_module": "@jupyter-widgets/controls",
      "model_module_version": "1.5.0",
      "model_name": "LabelModel",
      "state": {
       "layout": "IPY_MODEL_6f16095f3c15476ab5233f2d6e7d794a",
       "style": "IPY_MODEL_46e825e13c7340238a7ffe8e47f1214a",
       "value": "Ship size"
      }
     },
     "60b43e77df014702b32baf8db7a85180": {
      "model_module": "@jupyter-widgets/controls",
      "model_module_version": "1.5.0",
      "model_name": "ButtonStyleModel",
      "state": {}
     },
     "62680f7e84754040846c926d22bb46ea": {
      "model_module": "@jupyter-widgets/controls",
      "model_module_version": "1.5.0",
      "model_name": "ButtonModel",
      "state": {
       "button_style": "danger",
       "description": "weight=3; 0%",
       "layout": "IPY_MODEL_9361670be3e64836b49e82781b560e48",
       "style": "IPY_MODEL_304292fbce114dac975fb0188623a91f"
      }
     },
     "6389ec87b80d44d8aaabd8df466054c1": {
      "model_module": "@jupyter-widgets/controls",
      "model_module_version": "1.5.0",
      "model_name": "ButtonStyleModel",
      "state": {}
     },
     "66493e1f41f049b6b43a46a5dd81572a": {
      "model_module": "@jupyter-widgets/controls",
      "model_module_version": "1.5.0",
      "model_name": "ButtonStyleModel",
      "state": {}
     },
     "67394bd5bab047f1817b6543df4729ab": {
      "model_module": "@jupyter-widgets/controls",
      "model_module_version": "1.5.0",
      "model_name": "VBoxModel",
      "state": {
       "children": [
        "IPY_MODEL_85c8a7f91d65479ca4d8e728ab386fe0",
        "IPY_MODEL_056b2da901a94da09d4a324809314f10"
       ],
       "layout": "IPY_MODEL_890892cac003417d80ae95819575d295"
      }
     },
     "677cbf6db39342158a849447ab211520": {
      "model_module": "@jupyter-widgets/controls",
      "model_module_version": "1.5.0",
      "model_name": "ButtonStyleModel",
      "state": {}
     },
     "67e57d556a6d4b3abe8896f478a8d611": {
      "model_module": "@jupyter-widgets/controls",
      "model_module_version": "1.5.0",
      "model_name": "ButtonModel",
      "state": {
       "button_style": "warning",
       "description": "22",
       "layout": "IPY_MODEL_21b83c73fff04041ac3d6db5359601da",
       "style": "IPY_MODEL_f1132938421943f3bdbb4bd372012f9c"
      }
     },
     "67f3ed95da9c4601b6713d2d05f0ab8e": {
      "model_module": "@jupyter-widgets/controls",
      "model_module_version": "1.5.0",
      "model_name": "ButtonModel",
      "state": {
       "button_style": "warning",
       "description": "33",
       "layout": "IPY_MODEL_21b83c73fff04041ac3d6db5359601da",
       "style": "IPY_MODEL_3bb79ee4d15b40aba476698fdf5bf3df"
      }
     },
     "6aa3942bf08c4757b7e7df740ce8c21b": {
      "model_module": "@jupyter-widgets/controls",
      "model_module_version": "1.5.0",
      "model_name": "ButtonStyleModel",
      "state": {}
     },
     "6b8c76c0f9fe4114b5b0fb8cf1385cac": {
      "model_module": "@jupyter-widgets/controls",
      "model_module_version": "1.5.0",
      "model_name": "ButtonStyleModel",
      "state": {}
     },
     "6ba710487c154162bc94d7c0cb21e749": {
      "model_module": "@jupyter-widgets/controls",
      "model_module_version": "1.5.0",
      "model_name": "ButtonModel",
      "state": {
       "button_style": "primary",
       "description": "15",
       "layout": "IPY_MODEL_8ddeb3d0a3a64d6e91f9beaeac117818",
       "style": "IPY_MODEL_9a40cb0f87364576b9cbbf664b074783"
      }
     },
     "6e6ed6b0bbee4cbab4a41075cca6a23a": {
      "model_module": "@jupyter-widgets/controls",
      "model_module_version": "1.5.0",
      "model_name": "ButtonStyleModel",
      "state": {}
     },
     "6e77241c74844ebdb0ea2fec66509e63": {
      "model_module": "@jupyter-widgets/controls",
      "model_module_version": "1.5.0",
      "model_name": "BoxModel",
      "state": {
       "children": [
        "IPY_MODEL_6043a6ba9f1e4b3d9125ed2a8b094fdc",
        "IPY_MODEL_f50640158a5d4cdbbec0213230a11490"
       ],
       "layout": "IPY_MODEL_9ba5934074744cd19af6bd4743a5f4b3"
      }
     },
     "6ecb36a7bbb94d038e4c64716e9f49c1": {
      "model_module": "@jupyter-widgets/controls",
      "model_module_version": "1.5.0",
      "model_name": "ButtonStyleModel",
      "state": {}
     },
     "6ee9543543944c1e8d071f5b0b5e5881": {
      "model_module": "@jupyter-widgets/controls",
      "model_module_version": "1.5.0",
      "model_name": "ButtonStyleModel",
      "state": {}
     },
     "6f16095f3c15476ab5233f2d6e7d794a": {
      "model_module": "@jupyter-widgets/base",
      "model_module_version": "1.2.0",
      "model_name": "LayoutModel",
      "state": {}
     },
     "702ef5a309bb4c4aa8b1194dd2eea264": {
      "model_module": "@jupyter-widgets/controls",
      "model_module_version": "1.5.0",
      "model_name": "ButtonModel",
      "state": {
       "button_style": "danger",
       "description": "14",
       "layout": "IPY_MODEL_12b19cc7a16a4ce889151a1678040de5",
       "style": "IPY_MODEL_7a88cf7ae3064e8ba154de1d6e854a7f"
      }
     },
     "707cf4f409de474fbfeb2111e0ebebd4": {
      "model_module": "@jupyter-widgets/controls",
      "model_module_version": "1.5.0",
      "model_name": "ButtonStyleModel",
      "state": {}
     },
     "71bc4eb7c1d44a64ae9ea28b547abc33": {
      "model_module": "@jupyter-widgets/controls",
      "model_module_version": "1.5.0",
      "model_name": "DescriptionStyleModel",
      "state": {
       "description_width": ""
      }
     },
     "7373e4bd9de2402081b7eb0e36ca1647": {
      "model_module": "@jupyter-widgets/controls",
      "model_module_version": "1.5.0",
      "model_name": "BoxModel",
      "state": {
       "children": [
        "IPY_MODEL_7432822fcfe74bb88255d2b3f767507b",
        "IPY_MODEL_bd32142cd37448a28a60144c223f67cf"
       ],
       "layout": "IPY_MODEL_9ba5934074744cd19af6bd4743a5f4b3"
      }
     },
     "738633fe62dd4aa99beed11a8549b28a": {
      "model_module": "@jupyter-widgets/controls",
      "model_module_version": "1.5.0",
      "model_name": "LabelModel",
      "state": {
       "layout": "IPY_MODEL_a388d3b6cb2846a1bcf88a23d95174fc",
       "style": "IPY_MODEL_71bc4eb7c1d44a64ae9ea28b547abc33",
       "value": "Widget area:"
      }
     },
     "7432822fcfe74bb88255d2b3f767507b": {
      "model_module": "@jupyter-widgets/controls",
      "model_module_version": "1.5.0",
      "model_name": "LabelModel",
      "state": {
       "layout": "IPY_MODEL_a3cf6ec036e144e4bf7d2d443f502b6f",
       "style": "IPY_MODEL_451489b0bb804fa28e8d0216ef52c2dc",
       "value": "Age of the captain"
      }
     },
     "7962a916a9794c999f29cc23492d61b0": {
      "model_module": "@jupyter-widgets/base",
      "model_module_version": "1.2.0",
      "model_name": "LayoutModel",
      "state": {
       "height": "80px",
       "width": "80%"
      }
     },
     "7a669bf5c7864ea5aaadbd695c353d56": {
      "model_module": "@jupyter-widgets/controls",
      "model_module_version": "1.5.0",
      "model_name": "ButtonModel",
      "state": {
       "button_style": "warning",
       "description": "30",
       "layout": "IPY_MODEL_21b83c73fff04041ac3d6db5359601da",
       "style": "IPY_MODEL_8aa6fcbf74f14852b49bd5b86f077cf0"
      }
     },
     "7a88cf7ae3064e8ba154de1d6e854a7f": {
      "model_module": "@jupyter-widgets/controls",
      "model_module_version": "1.5.0",
      "model_name": "ButtonStyleModel",
      "state": {}
     },
     "7c2a49ca629142d49b8a257550382097": {
      "model_module": "@jupyter-widgets/controls",
      "model_module_version": "1.5.0",
      "model_name": "ButtonModel",
      "state": {
       "description": "Another button with the same layout",
       "layout": "IPY_MODEL_55c17dab53a34538a255c7cdfe996c4c",
       "style": "IPY_MODEL_6aa3942bf08c4757b7e7df740ce8c21b"
      }
     },
     "7c65e64979444c11bdc0a00c90655abc": {
      "model_module": "@jupyter-widgets/controls",
      "model_module_version": "1.5.0",
      "model_name": "DescriptionStyleModel",
      "state": {
       "description_width": ""
      }
     },
     "7c6cdbf61b6b40fd8b969c907a47f315": {
      "model_module": "@jupyter-widgets/controls",
      "model_module_version": "1.5.0",
      "model_name": "BoxModel",
      "state": {
       "children": [
        "IPY_MODEL_572f6b86ee364477807ddc34fb744cb3",
        "IPY_MODEL_ad652157522b4bcdb8de478ac690c0a9"
       ],
       "layout": "IPY_MODEL_9ba5934074744cd19af6bd4743a5f4b3"
      }
     },
     "7ddd9f2da26e4c97b683184b4d03faca": {
      "model_module": "@jupyter-widgets/controls",
      "model_module_version": "1.5.0",
      "model_name": "HBoxModel",
      "state": {
       "children": [
        "IPY_MODEL_aa5c642e6e9d445db246d1cf35e08ac9",
        "IPY_MODEL_f8344d163bdd4aa791ab0e061d9bcb40"
       ],
       "layout": "IPY_MODEL_52b96006e3e44f908697e6241118be3e"
      }
     },
     "7fccd83f6f4c499985cb90271f0f7da7": {
      "model_module": "@jupyter-widgets/controls",
      "model_module_version": "1.5.0",
      "model_name": "ButtonModel",
      "state": {
       "button_style": "warning",
       "description": "1",
       "layout": "IPY_MODEL_21b83c73fff04041ac3d6db5359601da",
       "style": "IPY_MODEL_53773cb68fa242d29f03dbcd042c39f7"
      }
     },
     "8069b837dc5f407d99eab91de77cbecc": {
      "model_module": "@jupyter-widgets/base",
      "model_module_version": "1.2.0",
      "model_name": "LayoutModel",
      "state": {
       "height": "500px",
       "width": "700px"
      }
     },
     "83b2d92125c642ea97a93b9400a68c5d": {
      "model_module": "@jupyter-widgets/base",
      "model_module_version": "1.2.0",
      "model_name": "LayoutModel",
      "state": {
       "height": "67px",
       "min_height": "20px",
       "min_width": "30px",
       "width": "60px"
      }
     },
     "847844a27fb54476823d7dd3c37bb402": {
      "model_module": "@jupyter-widgets/controls",
      "model_module_version": "1.5.0",
      "model_name": "ButtonModel",
      "state": {
       "button_style": "warning",
       "description": "14",
       "layout": "IPY_MODEL_21b83c73fff04041ac3d6db5359601da",
       "style": "IPY_MODEL_b8b242588301434e8fb5038325918579"
      }
     },
     "85495135627f45038110ccd7b84910e5": {
      "model_module": "@jupyter-widgets/base",
      "model_module_version": "1.2.0",
      "model_name": "LayoutModel",
      "state": {}
     },
     "85609c859f3c4459b93b4ff2e249ea40": {
      "model_module": "@jupyter-widgets/base",
      "model_module_version": "1.2.0",
      "model_name": "LayoutModel",
      "state": {
       "align_content": "stretch",
       "align_items": "stretch",
       "border": "3px solid gray",
       "display": "flex",
       "flex_flow": "row nowrap",
       "height": "300px",
       "justify_content": "flex-start",
       "max_height": "1000px",
       "max_width": "1000px",
       "min_height": "50px",
       "min_width": "50px",
       "overflow": "scroll scroll",
       "width": "700px"
      }
     },
     "85c8a7f91d65479ca4d8e728ab386fe0": {
      "model_module": "@jupyter-widgets/controls",
      "model_module_version": "1.5.0",
      "model_name": "BoxModel",
      "state": {
       "children": [
        "IPY_MODEL_2a77815753ba4587894397b8d8538641",
        "IPY_MODEL_a4d0b30ee73d47df932737049035c15d",
        "IPY_MODEL_51d5e3a5132945bea6b21d03a27d82ee"
       ],
       "layout": "IPY_MODEL_468abffc98de490f98cf5b5066740eaa"
      }
     },
     "865fa5c834734fb081cbc3e9a1330988": {
      "model_module": "@jupyter-widgets/controls",
      "model_module_version": "1.5.0",
      "model_name": "ButtonStyleModel",
      "state": {}
     },
     "87859df262be4543b105686a30a15d4e": {
      "model_module": "@jupyter-widgets/controls",
      "model_module_version": "1.5.0",
      "model_name": "ButtonModel",
      "state": {
       "button_style": "warning",
       "description": "36",
       "layout": "IPY_MODEL_21b83c73fff04041ac3d6db5359601da",
       "style": "IPY_MODEL_eaa61551d4034cfd92dc5cc5137cdf13"
      }
     },
     "8827fc58117b46e7b82e3556b9f19650": {
      "model_module": "@jupyter-widgets/controls",
      "model_module_version": "1.5.0",
      "model_name": "ButtonStyleModel",
      "state": {}
     },
     "8854432b47ed44998b0e321ac7d9b752": {
      "model_module": "@jupyter-widgets/controls",
      "model_module_version": "1.5.0",
      "model_name": "LabelModel",
      "state": {
       "layout": "IPY_MODEL_071596c0a99c4786ad2305148b5c3b97",
       "style": "IPY_MODEL_7c65e64979444c11bdc0a00c90655abc",
       "value": "Egg style"
      }
     },
     "890892cac003417d80ae95819575d295": {
      "model_module": "@jupyter-widgets/base",
      "model_module_version": "1.2.0",
      "model_name": "LayoutModel",
      "state": {}
     },
     "8aa6fcbf74f14852b49bd5b86f077cf0": {
      "model_module": "@jupyter-widgets/controls",
      "model_module_version": "1.5.0",
      "model_name": "ButtonStyleModel",
      "state": {}
     },
     "8bfce12a8cb448a7bbbeba63324db3bc": {
      "model_module": "@jupyter-widgets/controls",
      "model_module_version": "1.5.0",
      "model_name": "ButtonModel",
      "state": {
       "button_style": "warning",
       "description": "39",
       "layout": "IPY_MODEL_21b83c73fff04041ac3d6db5359601da",
       "style": "IPY_MODEL_962b8fd4e0704912b83d7675313ff24c"
      }
     },
     "8c87e3db2740494e918067b045eebbec": {
      "model_module": "@jupyter-widgets/controls",
      "model_module_version": "1.5.0",
      "model_name": "ButtonModel",
      "state": {
       "button_style": "warning",
       "description": "37",
       "layout": "IPY_MODEL_21b83c73fff04041ac3d6db5359601da",
       "style": "IPY_MODEL_b068cdf06a9f4bb986f37a70e9515b97"
      }
     },
     "8ddeb3d0a3a64d6e91f9beaeac117818": {
      "model_module": "@jupyter-widgets/base",
      "model_module_version": "1.2.0",
      "model_name": "LayoutModel",
      "state": {
       "height": "67px",
       "min_height": "20px",
       "min_width": "30px",
       "width": "60px"
      }
     },
     "8ebb71ff21d24e0c968d77ac7ead38bc": {
      "model_module": "@jupyter-widgets/controls",
      "model_module_version": "1.5.0",
      "model_name": "ButtonModel",
      "state": {
       "button_style": "success",
       "description": "6",
       "layout": "IPY_MODEL_e57a013b1e054742b5ae351eec283a06",
       "style": "IPY_MODEL_6e6ed6b0bbee4cbab4a41075cca6a23a"
      }
     },
     "8f36c3ca789349ec9f59db7ea49a16df": {
      "model_module": "@jupyter-widgets/controls",
      "model_module_version": "1.5.0",
      "model_name": "BoxModel",
      "state": {
       "children": [
        "IPY_MODEL_8854432b47ed44998b0e321ac7d9b752",
        "IPY_MODEL_b2e772a88fe545a2b3f7b7d25a63d446"
       ],
       "layout": "IPY_MODEL_9ba5934074744cd19af6bd4743a5f4b3"
      }
     },
     "8fa4ac2a2015477eaf09202ac1481a29": {
      "model_module": "@jupyter-widgets/base",
      "model_module_version": "1.2.0",
      "model_name": "LayoutModel",
      "state": {
       "width": "auto"
      }
     },
     "9192a408b1904aebb48c78d1d2c91078": {
      "model_module": "@jupyter-widgets/base",
      "model_module_version": "1.2.0",
      "model_name": "LayoutModel",
      "state": {
       "flex": "1 1 0%",
       "width": "auto"
      }
     },
     "91f86cb838b444c6a92e44d8317433d1": {
      "model_module": "@jupyter-widgets/controls",
      "model_module_version": "1.5.0",
      "model_name": "ButtonModel",
      "state": {
       "button_style": "warning",
       "description": "3",
       "layout": "IPY_MODEL_21b83c73fff04041ac3d6db5359601da",
       "style": "IPY_MODEL_fa9727f3eb684d22892e605222f86699"
      }
     },
     "92810f39bb1940d084004c591c092608": {
      "model_module": "@jupyter-widgets/base",
      "model_module_version": "1.2.0",
      "model_name": "LayoutModel",
      "state": {
       "height": "20px",
       "min_height": "20px",
       "min_width": "30px",
       "width": "60px"
      }
     },
     "928d3b3deca1444a96ab125aca8184f5": {
      "model_module": "@jupyter-widgets/controls",
      "model_module_version": "1.5.0",
      "model_name": "ButtonModel",
      "state": {
       "button_style": "primary",
       "description": "0",
       "layout": "IPY_MODEL_1af7923b9ddc48178814334ad9b30c7c",
       "style": "IPY_MODEL_1cce52ffc67b454bbfc9d8df5c1cffb6"
      }
     },
     "9361670be3e64836b49e82781b560e48": {
      "model_module": "@jupyter-widgets/base",
      "model_module_version": "1.2.0",
      "model_name": "LayoutModel",
      "state": {
       "flex": "3 1 0%",
       "width": "auto"
      }
     },
     "93b574dfb1d84b109ae85b04ca3ef17a": {
      "model_module": "@jupyter-widgets/base",
      "model_module_version": "1.2.0",
      "model_name": "LayoutModel",
      "state": {
       "height": "50px",
       "min_height": "20px",
       "min_width": "30px",
       "width": "60px"
      }
     },
     "94bcdaf37c374fd4a6658d0f3bcf5f80": {
      "model_module": "@jupyter-widgets/base",
      "model_module_version": "1.2.0",
      "model_name": "LayoutModel",
      "state": {
       "flex": "1 1 auto",
       "width": "auto"
      }
     },
     "953dbb6f93fd4afcafe1da6aa403167a": {
      "model_module": "@jupyter-widgets/controls",
      "model_module_version": "1.5.0",
      "model_name": "ButtonModel",
      "state": {
       "button_style": "success",
       "description": "11",
       "layout": "IPY_MODEL_5d70bd0d1ace406bb9500703ce626b03",
       "style": "IPY_MODEL_4820b2da1a12404f8b5044a5886597a3"
      }
     },
     "962b8fd4e0704912b83d7675313ff24c": {
      "model_module": "@jupyter-widgets/controls",
      "model_module_version": "1.5.0",
      "model_name": "ButtonStyleModel",
      "state": {}
     },
     "972cf504cc974bd2af478fbc8c2381df": {
      "model_module": "@jupyter-widgets/controls",
      "model_module_version": "1.5.0",
      "model_name": "ButtonStyleModel",
      "state": {}
     },
     "97ac4cfc13544eee99dd85977c98039c": {
      "model_module": "@jupyter-widgets/controls",
      "model_module_version": "1.5.0",
      "model_name": "ButtonStyleModel",
      "state": {}
     },
     "9a40cb0f87364576b9cbbf664b074783": {
      "model_module": "@jupyter-widgets/controls",
      "model_module_version": "1.5.0",
      "model_name": "ButtonStyleModel",
      "state": {}
     },
     "9b0c46198f944e42b08f720dd517cc81": {
      "model_module": "@jupyter-widgets/base",
      "model_module_version": "1.2.0",
      "model_name": "LayoutModel",
      "state": {
       "height": "25px",
       "min_height": "20px",
       "min_width": "30px",
       "width": "60px"
      }
     },
     "9ba5934074744cd19af6bd4743a5f4b3": {
      "model_module": "@jupyter-widgets/base",
      "model_module_version": "1.2.0",
      "model_name": "LayoutModel",
      "state": {
       "display": "flex",
       "flex_flow": "row",
       "justify_content": "space-between"
      }
     },
     "a006fe20fe8e4322816f4f07b1a28910": {
      "model_module": "@jupyter-widgets/controls",
      "model_module_version": "1.5.0",
      "model_name": "ButtonModel",
      "state": {
       "button_style": "danger",
       "description": "weight=1; 0%",
       "layout": "IPY_MODEL_14d63dab687142db818bfc5c66e205ea",
       "style": "IPY_MODEL_f969aec1bb714652882b53c0985b3b10"
      }
     },
     "a13e83f477ac463a8a6a0a67a1330bdc": {
      "model_module": "@jupyter-widgets/controls",
      "model_module_version": "1.5.0",
      "model_name": "ButtonStyleModel",
      "state": {}
     },
     "a1956111b9bf4bb79467b22b2b4f4d68": {
      "model_module": "@jupyter-widgets/controls",
      "model_module_version": "1.5.0",
      "model_name": "ButtonModel",
      "state": {
       "button_style": "warning",
       "description": "6",
       "layout": "IPY_MODEL_21b83c73fff04041ac3d6db5359601da",
       "style": "IPY_MODEL_104aace22f6746bca8f0a3d5e171d0fe"
      }
     },
     "a388d3b6cb2846a1bcf88a23d95174fc": {
      "model_module": "@jupyter-widgets/base",
      "model_module_version": "1.2.0",
      "model_name": "LayoutModel",
      "state": {}
     },
     "a3cf6ec036e144e4bf7d2d443f502b6f": {
      "model_module": "@jupyter-widgets/base",
      "model_module_version": "1.2.0",
      "model_name": "LayoutModel",
      "state": {}
     },
     "a3e64d9197284a98b71768e559a6718e": {
      "model_module": "@jupyter-widgets/base",
      "model_module_version": "1.2.0",
      "model_name": "LayoutModel",
      "state": {
       "height": "67px",
       "min_height": "20px",
       "min_width": "30px",
       "width": "60px"
      }
     },
     "a4d0b30ee73d47df932737049035c15d": {
      "model_module": "@jupyter-widgets/controls",
      "model_module_version": "1.5.0",
      "model_name": "ButtonModel",
      "state": {
       "button_style": "danger",
       "description": "weight=3; auto",
       "layout": "IPY_MODEL_2ab14825c41945c08ce2de417b1f8485",
       "style": "IPY_MODEL_efe77bc74bba4a34939c1f77396cf4e8"
      }
     },
     "a5283b6672fc4b2bbbfccd63630e01ad": {
      "model_module": "@jupyter-widgets/controls",
      "model_module_version": "1.5.0",
      "model_name": "DescriptionStyleModel",
      "state": {
       "description_width": "100px"
      }
     },
     "a5d71312859144c7b55faea69912872b": {
      "model_module": "@jupyter-widgets/controls",
      "model_module_version": "1.5.0",
      "model_name": "ButtonModel",
      "state": {
       "button_style": "danger",
       "description": "9",
       "layout": "IPY_MODEL_4140369a4e2e49589bf157b0199e56cf",
       "style": "IPY_MODEL_412c9a36c2f44f83a87589f36059b73d"
      }
     },
     "a5f33e90249d4b7e90550d826673eb37": {
      "model_module": "@jupyter-widgets/controls",
      "model_module_version": "1.5.0",
      "model_name": "ButtonStyleModel",
      "state": {}
     },
     "a645f816667b4edfb5e0cb93c74802e8": {
      "model_module": "@jupyter-widgets/controls",
      "model_module_version": "1.5.0",
      "model_name": "ButtonModel",
      "state": {
       "button_style": "danger",
       "description": "4",
       "layout": "IPY_MODEL_a3e64d9197284a98b71768e559a6718e",
       "style": "IPY_MODEL_2c063cab65794e55a014ec19b1aba4c8"
      }
     },
     "a726c4addc4d4a54a006bb01d3f53b11": {
      "model_module": "@jupyter-widgets/controls",
      "model_module_version": "1.5.0",
      "model_name": "ButtonStyleModel",
      "state": {}
     },
     "a81ebfe2bae443888e867c2439b0e1f7": {
      "model_module": "@jupyter-widgets/controls",
      "model_module_version": "1.5.0",
      "model_name": "ButtonStyleModel",
      "state": {}
     },
     "a875fb024b504d1895ccdd211c3078b8": {
      "model_module": "@jupyter-widgets/controls",
      "model_module_version": "1.5.0",
      "model_name": "ButtonModel",
      "state": {
       "button_style": "warning",
       "description": "19",
       "layout": "IPY_MODEL_21b83c73fff04041ac3d6db5359601da",
       "style": "IPY_MODEL_a81ebfe2bae443888e867c2439b0e1f7"
      }
     },
     "a98fbb2ca38a4bab911d3b614d100041": {
      "model_module": "@jupyter-widgets/controls",
      "model_module_version": "1.5.0",
      "model_name": "ButtonModel",
      "state": {
       "description": "(50% width, 80px height) button",
       "layout": "IPY_MODEL_55c17dab53a34538a255c7cdfe996c4c",
       "style": "IPY_MODEL_c5e6bc9b80494ea69c95cec8949f8efb"
      }
     },
     "aa0dbad7414848a480edde9a50f12dab": {
      "model_module": "@jupyter-widgets/base",
      "model_module_version": "1.2.0",
      "model_name": "LayoutModel",
      "state": {}
     },
     "aa5c642e6e9d445db246d1cf35e08ac9": {
      "model_module": "@jupyter-widgets/controls",
      "model_module_version": "1.5.0",
      "model_name": "VBoxModel",
      "state": {
       "children": [
        "IPY_MODEL_ce08d017c3704a27b7a8f65f0b81a1be",
        "IPY_MODEL_ea98abd2fa564f7f8c3e3513e84e2ad7"
       ],
       "layout": "IPY_MODEL_59954b1930364e6585952f06857f12ec"
      }
     },
     "ac43f8d164b142aba78196acaa5e1a3f": {
      "model_module": "@jupyter-widgets/controls",
      "model_module_version": "1.5.0",
      "model_name": "ButtonModel",
      "state": {
       "button_style": "warning",
       "description": "18",
       "layout": "IPY_MODEL_21b83c73fff04041ac3d6db5359601da",
       "style": "IPY_MODEL_d0c4387835de487d81d8df7fac20ad6d"
      }
     },
     "ad652157522b4bcdb8de478ac690c0a9": {
      "model_module": "@jupyter-widgets/controls",
      "model_module_version": "1.5.0",
      "model_name": "TextareaModel",
      "state": {
       "layout": "IPY_MODEL_c8114b04ece744d5b5e3a062ead87cdc",
       "style": "IPY_MODEL_4dd8d047e3834a5a9ac7ca56dd994138"
      }
     },
     "ad6ec4edd7564e7f89518bc9b2dc6d87": {
      "model_module": "@jupyter-widgets/controls",
      "model_module_version": "1.5.0",
      "model_name": "SliderStyleModel",
      "state": {
       "description_width": ""
      }
     },
     "adf620cc4f92448b8a68238261199864": {
      "model_module": "@jupyter-widgets/controls",
      "model_module_version": "1.5.0",
      "model_name": "ButtonModel",
      "state": {
       "description": "battery",
       "layout": "IPY_MODEL_aa0dbad7414848a480edde9a50f12dab",
       "style": "IPY_MODEL_b04b80db9fa04c5aa940de650a917441"
      }
     },
     "adff240749f142a08d73e2bb154bfee2": {
      "model_module": "@jupyter-widgets/controls",
      "model_module_version": "1.5.0",
      "model_name": "ButtonStyleModel",
      "state": {}
     },
     "ae61f31461e64b5287f79d3553dd562e": {
      "model_module": "@jupyter-widgets/controls",
      "model_module_version": "1.5.0",
      "model_name": "ButtonModel",
      "state": {
       "button_style": "warning",
       "description": "28",
       "layout": "IPY_MODEL_21b83c73fff04041ac3d6db5359601da",
       "style": "IPY_MODEL_b8c41f98f55a49028195f03cf79d6072"
      }
     },
     "ae74ee503e0d4738a3e19c5ab6217e55": {
      "model_module": "@jupyter-widgets/controls",
      "model_module_version": "1.5.0",
      "model_name": "ButtonStyleModel",
      "state": {}
     },
     "b00c88467ba047a9a96304f74c7a1a5c": {
      "model_module": "@jupyter-widgets/controls",
      "model_module_version": "1.5.0",
      "model_name": "ButtonModel",
      "state": {
       "button_style": "warning",
       "description": "25",
       "layout": "IPY_MODEL_21b83c73fff04041ac3d6db5359601da",
       "style": "IPY_MODEL_677cbf6db39342158a849447ab211520"
      }
     },
     "b04b80db9fa04c5aa940de650a917441": {
      "model_module": "@jupyter-widgets/controls",
      "model_module_version": "1.5.0",
      "model_name": "ButtonStyleModel",
      "state": {}
     },
     "b068cdf06a9f4bb986f37a70e9515b97": {
      "model_module": "@jupyter-widgets/controls",
      "model_module_version": "1.5.0",
      "model_name": "ButtonStyleModel",
      "state": {}
     },
     "b165220032a74bce83576e313ddcedba": {
      "model_module": "@jupyter-widgets/controls",
      "model_module_version": "1.5.0",
      "model_name": "ButtonModel",
      "state": {
       "button_style": "danger",
       "description": "battery",
       "layout": "IPY_MODEL_8fa4ac2a2015477eaf09202ac1481a29",
       "style": "IPY_MODEL_972cf504cc974bd2af478fbc8c2381df"
      }
     },
     "b1ecf85d564747818525d3c88b8758ce": {
      "model_module": "@jupyter-widgets/controls",
      "model_module_version": "1.5.0",
      "model_name": "ButtonModel",
      "state": {
       "button_style": "warning",
       "description": "35",
       "layout": "IPY_MODEL_21b83c73fff04041ac3d6db5359601da",
       "style": "IPY_MODEL_3d269a2eff574784b4915b03574bcd91"
      }
     },
     "b2ba6b94553e4fa187f2da9e1cac6647": {
      "model_module": "@jupyter-widgets/controls",
      "model_module_version": "1.5.0",
      "model_name": "ButtonStyleModel",
      "state": {}
     },
     "b2e772a88fe545a2b3f7b7d25a63d446": {
      "model_module": "@jupyter-widgets/controls",
      "model_module_version": "1.5.0",
      "model_name": "DropdownModel",
      "state": {
       "_options_labels": [
        "Scrambled",
        "Sunny side up",
        "Over easy"
       ],
       "index": 0,
       "layout": "IPY_MODEL_bbff08dc0eeb4a4e81096f211f349219",
       "style": "IPY_MODEL_1523f8a8d86a40d499d7dac0320ad310"
      }
     },
     "b3e55d14b9574347927240261303cb0c": {
      "model_module": "@jupyter-widgets/base",
      "model_module_version": "1.2.0",
      "model_name": "LayoutModel",
      "state": {
       "flex": "1 1 auto",
       "width": "auto"
      }
     },
     "b40e0c3dc15d4049bb3682b86403326f": {
      "model_module": "@jupyter-widgets/controls",
      "model_module_version": "1.5.0",
      "model_name": "TextareaModel",
      "state": {
       "layout": "IPY_MODEL_7962a916a9794c999f29cc23492d61b0",
       "placeholder": "Python code is exported to this panel....",
       "style": "IPY_MODEL_42d8db4e3ad145809536a3dd764c75f7"
      }
     },
     "b5fc9ad1a9fc41cf9269ebd827b54f8a": {
      "model_module": "@jupyter-widgets/base",
      "model_module_version": "1.2.0",
      "model_name": "LayoutModel",
      "state": {
       "height": "25px",
       "min_height": "20px",
       "min_width": "30px",
       "width": "60px"
      }
     },
     "b718b0bc5dec432d91db387d67234822": {
      "model_module": "@jupyter-widgets/controls",
      "model_module_version": "1.5.0",
      "model_name": "ButtonModel",
      "state": {
       "button_style": "warning",
       "description": "17",
       "layout": "IPY_MODEL_21b83c73fff04041ac3d6db5359601da",
       "style": "IPY_MODEL_1f9e11a2164543939aff7e0964100e0d"
      }
     },
     "b862f5b23e754bd9991ffcc4bec01760": {
      "model_module": "@jupyter-widgets/controls",
      "model_module_version": "1.5.0",
      "model_name": "DescriptionStyleModel",
      "state": {
       "description_width": "100px"
      }
     },
     "b8b242588301434e8fb5038325918579": {
      "model_module": "@jupyter-widgets/controls",
      "model_module_version": "1.5.0",
      "model_name": "ButtonStyleModel",
      "state": {}
     },
     "b8c41f98f55a49028195f03cf79d6072": {
      "model_module": "@jupyter-widgets/controls",
      "model_module_version": "1.5.0",
      "model_name": "ButtonStyleModel",
      "state": {}
     },
     "baf8faf5661047cfa9535f4039cd12c3": {
      "model_module": "@jupyter-widgets/controls",
      "model_module_version": "1.5.0",
      "model_name": "ButtonStyleModel",
      "state": {}
     },
     "bbff08dc0eeb4a4e81096f211f349219": {
      "model_module": "@jupyter-widgets/base",
      "model_module_version": "1.2.0",
      "model_name": "LayoutModel",
      "state": {}
     },
     "bd32142cd37448a28a60144c223f67cf": {
      "model_module": "@jupyter-widgets/controls",
      "model_module_version": "1.5.0",
      "model_name": "IntSliderModel",
      "state": {
       "layout": "IPY_MODEL_125848e84150414dac6c63adc2ff0d48",
       "max": 60,
       "min": 40,
       "style": "IPY_MODEL_ad6ec4edd7564e7f89518bc9b2dc6d87",
       "value": 40
      }
     },
     "bdc1d04d226042bb8b936f31d50730ae": {
      "model_module": "@jupyter-widgets/base",
      "model_module_version": "1.2.0",
      "model_name": "LayoutModel",
      "state": {
       "align_items": "stretch",
       "border": "solid",
       "display": "flex",
       "flex_flow": "column",
       "width": "50%"
      }
     },
     "bfa9217b469548e6adfa0d337fffd451": {
      "model_module": "@jupyter-widgets/controls",
      "model_module_version": "1.5.0",
      "model_name": "VBoxModel",
      "state": {
       "children": [
        "IPY_MODEL_738633fe62dd4aa99beed11a8549b28a",
        "IPY_MODEL_5749a40347c14e4e824ea078789d249c"
       ],
       "layout": "IPY_MODEL_8069b837dc5f407d99eab91de77cbecc"
      }
     },
     "c0ff83c14bab44ca9a5ca27b2bfc4f74": {
      "model_module": "@jupyter-widgets/base",
      "model_module_version": "1.2.0",
      "model_name": "LayoutModel",
      "state": {
       "border": "3px solid black",
       "display": "flex",
       "flex_flow": "row",
       "height": "",
       "overflow_x": "scroll",
       "width": "500px"
      }
     },
     "c164f9cc1edc47b3ab51bb85bbd50968": {
      "model_module": "@jupyter-widgets/controls",
      "model_module_version": "1.5.0",
      "model_name": "ButtonModel",
      "state": {
       "button_style": "warning",
       "description": "10",
       "layout": "IPY_MODEL_21b83c73fff04041ac3d6db5359601da",
       "style": "IPY_MODEL_2d2b20d2d2154f90a3d32ebf6010d5a4"
      }
     },
     "c1dfffaf8fc347929149d874af16ede4": {
      "model_module": "@jupyter-widgets/base",
      "model_module_version": "1.2.0",
      "model_name": "LayoutModel",
      "state": {
       "height": "25px",
       "min_height": "20px",
       "min_width": "30px",
       "width": "60px"
      }
     },
     "c3431ed710214bc89f2a763cf58dbb2c": {
      "model_module": "@jupyter-widgets/controls",
      "model_module_version": "1.5.0",
      "model_name": "ButtonStyleModel",
      "state": {}
     },
     "c5e6bc9b80494ea69c95cec8949f8efb": {
      "model_module": "@jupyter-widgets/controls",
      "model_module_version": "1.5.0",
      "model_name": "ButtonStyleModel",
      "state": {}
     },
     "c8114b04ece744d5b5e3a062ead87cdc": {
      "model_module": "@jupyter-widgets/base",
      "model_module_version": "1.2.0",
      "model_name": "LayoutModel",
      "state": {}
     },
     "c9d4a94f5e4645a39fb303a0d011b46f": {
      "model_module": "@jupyter-widgets/controls",
      "model_module_version": "1.5.0",
      "model_name": "ButtonModel",
      "state": {
       "button_style": "primary",
       "description": "5",
       "layout": "IPY_MODEL_83b2d92125c642ea97a93b9400a68c5d",
       "style": "IPY_MODEL_0854ac60f504427a89904d707d2bcaaf"
      }
     },
     "ca3d3e82d8e34fbf8720560096b2dfab": {
      "model_module": "@jupyter-widgets/controls",
      "model_module_version": "1.5.0",
      "model_name": "ButtonModel",
      "state": {
       "button_style": "warning",
       "description": "15",
       "layout": "IPY_MODEL_21b83c73fff04041ac3d6db5359601da",
       "style": "IPY_MODEL_27dd213b28ac47e9a422c75b5780ded1"
      }
     },
     "cc82d8ddee0f4ca085eec4607174c72e": {
      "model_module": "@jupyter-widgets/controls",
      "model_module_version": "1.5.0",
      "model_name": "DescriptionStyleModel",
      "state": {
       "description_width": ""
      }
     },
     "cd2a60e48c7b48849a3fbf0c3599aa8d": {
      "model_module": "@jupyter-widgets/controls",
      "model_module_version": "1.5.0",
      "model_name": "ButtonStyleModel",
      "state": {}
     },
     "ce08d017c3704a27b7a8f65f0b81a1be": {
      "model_module": "@jupyter-widgets/controls",
      "model_module_version": "1.5.0",
      "model_name": "ButtonModel",
      "state": {
       "description": "correct",
       "layout": "IPY_MODEL_42f3d23924a4457da3baeacf68c12070",
       "style": "IPY_MODEL_adff240749f142a08d73e2bb154bfee2"
      }
     },
     "ce6e40e44e1f4633907e9753b76a4993": {
      "model_module": "@jupyter-widgets/base",
      "model_module_version": "1.2.0",
      "model_name": "LayoutModel",
      "state": {
       "height": "80px",
       "min_height": "20px",
       "min_width": "30px",
       "width": "60px"
      }
     },
     "d0544bf697a4465780b7739190bb3889": {
      "model_module": "@jupyter-widgets/controls",
      "model_module_version": "1.5.0",
      "model_name": "ButtonModel",
      "state": {
       "button_style": "warning",
       "description": "21",
       "layout": "IPY_MODEL_21b83c73fff04041ac3d6db5359601da",
       "style": "IPY_MODEL_707cf4f409de474fbfeb2111e0ebebd4"
      }
     },
     "d0c4387835de487d81d8df7fac20ad6d": {
      "model_module": "@jupyter-widgets/controls",
      "model_module_version": "1.5.0",
      "model_name": "ButtonStyleModel",
      "state": {}
     },
     "d0d0b72a6117400bbcdbdcbfe98e140c": {
      "model_module": "@jupyter-widgets/controls",
      "model_module_version": "1.5.0",
      "model_name": "ButtonModel",
      "state": {
       "button_style": "warning",
       "description": "11",
       "layout": "IPY_MODEL_21b83c73fff04041ac3d6db5359601da",
       "style": "IPY_MODEL_366504f61f264a6095c9829443f7612d"
      }
     },
     "d34debe912894124bfed82b115322b71": {
      "model_module": "@jupyter-widgets/controls",
      "model_module_version": "1.5.0",
      "model_name": "ButtonStyleModel",
      "state": {}
     },
     "d4255d2b26d84ce1af34b7a8f47486f4": {
      "model_module": "@jupyter-widgets/controls",
      "model_module_version": "1.5.0",
      "model_name": "ButtonModel",
      "state": {
       "button_style": "info",
       "description": "2",
       "layout": "IPY_MODEL_f8e3399da8994c2f8d4a77a82e5897ce",
       "style": "IPY_MODEL_26cd525c9c184d70b5baf26c8def190e"
      }
     },
     "d446ff57a1764c88967468198ce4c826": {
      "model_module": "@jupyter-widgets/controls",
      "model_module_version": "1.5.0",
      "model_name": "ButtonStyleModel",
      "state": {}
     },
     "d4501d6eeaf543cf872fed3426d2e02a": {
      "model_module": "@jupyter-widgets/controls",
      "model_module_version": "1.5.0",
      "model_name": "BoxModel",
      "state": {
       "children": [
        "IPY_MODEL_7373e4bd9de2402081b7eb0e36ca1647",
        "IPY_MODEL_8f36c3ca789349ec9f59db7ea49a16df",
        "IPY_MODEL_6e77241c74844ebdb0ea2fec66509e63",
        "IPY_MODEL_7c6cdbf61b6b40fd8b969c907a47f315"
       ],
       "layout": "IPY_MODEL_0314d4c5fe8b483fa38a4168bf00b524"
      }
     },
     "d4911a92d64044608fe371c471a73fd5": {
      "model_module": "@jupyter-widgets/base",
      "model_module_version": "1.2.0",
      "model_name": "LayoutModel",
      "state": {
       "height": "50px",
       "min_height": "20px",
       "min_width": "30px",
       "width": "60px"
      }
     },
     "d64afe84c4e04fcf818dd2f9a01e520b": {
      "model_module": "@jupyter-widgets/base",
      "model_module_version": "1.2.0",
      "model_name": "LayoutModel",
      "state": {
       "border": "2px dotted gray",
       "width": "fit-content"
      }
     },
     "d6a922155bf54d0787dfd029fa8e2ef2": {
      "model_module": "@jupyter-widgets/controls",
      "model_module_version": "1.5.0",
      "model_name": "ButtonModel",
      "state": {
       "button_style": "warning",
       "description": "20",
       "layout": "IPY_MODEL_21b83c73fff04041ac3d6db5359601da",
       "style": "IPY_MODEL_e8e353c275854a19a6beb1482170cd07"
      }
     },
     "d715ba67f1bd4f43ad4fd9da32cf699f": {
      "model_module": "@jupyter-widgets/base",
      "model_module_version": "1.2.0",
      "model_name": "LayoutModel",
      "state": {}
     },
     "d8c748ea5fba4361abb2c065a5e1fedd": {
      "model_module": "@jupyter-widgets/controls",
      "model_module_version": "1.5.0",
      "model_name": "ButtonModel",
      "state": {
       "button_style": "info",
       "description": "7",
       "layout": "IPY_MODEL_92810f39bb1940d084004c591c092608",
       "style": "IPY_MODEL_4817e083597549019586fcd38279ef94"
      }
     },
     "d924c078af19440cb87f22a3b3b0b93e": {
      "model_module": "@jupyter-widgets/base",
      "model_module_version": "1.2.0",
      "model_name": "LayoutModel",
      "state": {}
     },
     "d9bdf53e6ec14b8e91493caf092c6747": {
      "model_module": "@jupyter-widgets/base",
      "model_module_version": "1.2.0",
      "model_name": "LayoutModel",
      "state": {
       "height": "80px",
       "min_height": "50px",
       "min_width": "30px",
       "width": "60px"
      }
     },
     "dc91b25d10a54f0cad46ad8e2a91d63d": {
      "model_module": "@jupyter-widgets/base",
      "model_module_version": "1.2.0",
      "model_name": "LayoutModel",
      "state": {}
     },
     "dedd75537d994a0d918e7fc01dbe1ebf": {
      "model_module": "@jupyter-widgets/controls",
      "model_module_version": "1.5.0",
      "model_name": "ButtonStyleModel",
      "state": {}
     },
     "e2eb4ec513e846efa10d14ed147a54a8": {
      "model_module": "@jupyter-widgets/controls",
      "model_module_version": "1.5.0",
      "model_name": "ButtonModel",
      "state": {
       "button_style": "warning",
       "description": "7",
       "layout": "IPY_MODEL_21b83c73fff04041ac3d6db5359601da",
       "style": "IPY_MODEL_54bf870d374f4e458fc40b33f7437e7c"
      }
     },
     "e3615c96251a496f8fcb8f498be82036": {
      "model_module": "@jupyter-widgets/controls",
      "model_module_version": "1.5.0",
      "model_name": "ButtonModel",
      "state": {
       "button_style": "warning",
       "description": "32",
       "layout": "IPY_MODEL_21b83c73fff04041ac3d6db5359601da",
       "style": "IPY_MODEL_535aeef2b7b244968b31b66f1384dd7c"
      }
     },
     "e46faded40e242eb917a846c3b744fc8": {
      "model_module": "@jupyter-widgets/controls",
      "model_module_version": "1.5.0",
      "model_name": "ButtonModel",
      "state": {
       "button_style": "warning",
       "description": "8",
       "layout": "IPY_MODEL_93b574dfb1d84b109ae85b04ca3ef17a",
       "style": "IPY_MODEL_6ee9543543944c1e8d071f5b0b5e5881"
      }
     },
     "e4f201e6a8cd4d568e888004ead21245": {
      "model_module": "@jupyter-widgets/base",
      "model_module_version": "1.2.0",
      "model_name": "LayoutModel",
      "state": {}
     },
     "e57a013b1e054742b5ae351eec283a06": {
      "model_module": "@jupyter-widgets/base",
      "model_module_version": "1.2.0",
      "model_name": "LayoutModel",
      "state": {
       "height": "25px",
       "min_height": "20px",
       "min_width": "30px",
       "width": "60px"
      }
     },
     "e8e353c275854a19a6beb1482170cd07": {
      "model_module": "@jupyter-widgets/controls",
      "model_module_version": "1.5.0",
      "model_name": "ButtonStyleModel",
      "state": {}
     },
     "ea98abd2fa564f7f8c3e3513e84e2ad7": {
      "model_module": "@jupyter-widgets/controls",
      "model_module_version": "1.5.0",
      "model_name": "ButtonModel",
      "state": {
       "description": "horse",
       "layout": "IPY_MODEL_d715ba67f1bd4f43ad4fd9da32cf699f",
       "style": "IPY_MODEL_c3431ed710214bc89f2a763cf58dbb2c"
      }
     },
     "eaa61551d4034cfd92dc5cc5137cdf13": {
      "model_module": "@jupyter-widgets/controls",
      "model_module_version": "1.5.0",
      "model_name": "ButtonStyleModel",
      "state": {}
     },
     "efe77bc74bba4a34939c1f77396cf4e8": {
      "model_module": "@jupyter-widgets/controls",
      "model_module_version": "1.5.0",
      "model_name": "ButtonStyleModel",
      "state": {}
     },
     "f1132938421943f3bdbb4bd372012f9c": {
      "model_module": "@jupyter-widgets/controls",
      "model_module_version": "1.5.0",
      "model_name": "ButtonStyleModel",
      "state": {}
     },
     "f28b5e435e0645e1889a95d709062d76": {
      "model_module": "@jupyter-widgets/controls",
      "model_module_version": "1.5.0",
      "model_name": "ButtonModel",
      "state": {
       "button_style": "warning",
       "description": "16",
       "layout": "IPY_MODEL_21b83c73fff04041ac3d6db5359601da",
       "style": "IPY_MODEL_6ecb36a7bbb94d038e4c64716e9f49c1"
      }
     },
     "f4ad4c345f904711933fc958b9a620fa": {
      "model_module": "@jupyter-widgets/controls",
      "model_module_version": "1.5.0",
      "model_name": "ButtonStyleModel",
      "state": {}
     },
     "f50640158a5d4cdbbec0213230a11490": {
      "model_module": "@jupyter-widgets/controls",
      "model_module_version": "1.5.0",
      "model_name": "FloatTextModel",
      "state": {
       "layout": "IPY_MODEL_85495135627f45038110ccd7b84910e5",
       "step": null,
       "style": "IPY_MODEL_00381ebf362b46c58b27e15af0635f7d"
      }
     },
     "f5f1dd6dab904b359593304d7591d904": {
      "model_module": "@jupyter-widgets/base",
      "model_module_version": "1.2.0",
      "model_name": "LayoutModel",
      "state": {}
     },
     "f7223cf73c5946928c843f6dd623085e": {
      "model_module": "@jupyter-widgets/controls",
      "model_module_version": "1.5.0",
      "model_name": "ButtonModel",
      "state": {
       "button_style": "warning",
       "description": "27",
       "layout": "IPY_MODEL_21b83c73fff04041ac3d6db5359601da",
       "style": "IPY_MODEL_f4ad4c345f904711933fc958b9a620fa"
      }
     },
     "f8344d163bdd4aa791ab0e061d9bcb40": {
      "model_module": "@jupyter-widgets/controls",
      "model_module_version": "1.5.0",
      "model_name": "VBoxModel",
      "state": {
       "children": [
        "IPY_MODEL_adf620cc4f92448b8a68238261199864",
        "IPY_MODEL_435ab02ea3584553ac6d38ed9f7267ed"
       ],
       "layout": "IPY_MODEL_2c0de4c1d93743e7a47dfc2465dbc693"
      }
     },
     "f8e3399da8994c2f8d4a77a82e5897ce": {
      "model_module": "@jupyter-widgets/base",
      "model_module_version": "1.2.0",
      "model_name": "LayoutModel",
      "state": {
       "height": "80px",
       "min_height": "20px",
       "min_width": "30px",
       "width": "60px"
      }
     },
     "f969aec1bb714652882b53c0985b3b10": {
      "model_module": "@jupyter-widgets/controls",
      "model_module_version": "1.5.0",
      "model_name": "ButtonStyleModel",
      "state": {}
     },
     "fa5088ba672345caaf95140a3bfc46a5": {
      "model_module": "@jupyter-widgets/controls",
      "model_module_version": "1.5.0",
      "model_name": "ButtonModel",
      "state": {
       "button_style": "warning",
       "description": "4",
       "layout": "IPY_MODEL_21b83c73fff04041ac3d6db5359601da",
       "style": "IPY_MODEL_37eab9a5440f452eb39074ea6fd6bca9"
      }
     },
     "fa9727f3eb684d22892e605222f86699": {
      "model_module": "@jupyter-widgets/controls",
      "model_module_version": "1.5.0",
      "model_name": "ButtonStyleModel",
      "state": {}
     },
     "fb12255a5f5b4a619d5cc0f8d84f9dc5": {
      "model_module": "@jupyter-widgets/controls",
      "model_module_version": "1.5.0",
      "model_name": "ButtonStyleModel",
      "state": {}
     },
     "fb56141a930b434ab1ef299e39cdf19b": {
      "model_module": "@jupyter-widgets/controls",
      "model_module_version": "1.5.0",
      "model_name": "ButtonModel",
      "state": {
       "button_style": "primary",
       "description": "10",
       "layout": "IPY_MODEL_ce6e40e44e1f4633907e9753b76a4993",
       "style": "IPY_MODEL_a13e83f477ac463a8a6a0a67a1330bdc"
      }
     },
     "fbeff674330b4ffbb3ec1bdca1b7a044": {
      "model_module": "@jupyter-widgets/controls",
      "model_module_version": "1.5.0",
      "model_name": "ButtonModel",
      "state": {
       "button_style": "warning",
       "description": "0",
       "layout": "IPY_MODEL_21b83c73fff04041ac3d6db5359601da",
       "style": "IPY_MODEL_6b8c76c0f9fe4114b5b0fb8cf1385cac"
      }
     },
     "fc29c1209fe94a928dbfeb948ff39248": {
      "model_module": "@jupyter-widgets/controls",
      "model_module_version": "1.5.0",
      "model_name": "ButtonStyleModel",
      "state": {}
     },
     "fc2fda6816a04a7ba7080a7743877d30": {
      "model_module": "@jupyter-widgets/controls",
      "model_module_version": "1.5.0",
      "model_name": "ButtonModel",
      "state": {
       "button_style": "warning",
       "description": "26",
       "layout": "IPY_MODEL_21b83c73fff04041ac3d6db5359601da",
       "style": "IPY_MODEL_dedd75537d994a0d918e7fc01dbe1ebf"
      }
     },
     "fe3f630834404b869b3ce282dd0e1b63": {
      "model_module": "@jupyter-widgets/controls",
      "model_module_version": "1.5.0",
      "model_name": "ButtonModel",
      "state": {
       "button_style": "info",
       "description": "12",
       "layout": "IPY_MODEL_c1dfffaf8fc347929149d874af16ede4",
       "style": "IPY_MODEL_865fa5c834734fb081cbc3e9a1330988"
      }
     }
    },
    "version_major": 2,
    "version_minor": 0
   }
  }
 },
 "nbformat": 4,
 "nbformat_minor": 4
}
