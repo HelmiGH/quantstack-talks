{
 "cells": [
  {
   "cell_type": "code",
   "execution_count": null,
   "metadata": {},
   "outputs": [],
   "source": [
    "from ipywidgets import Dropdown, Label, HBox\n",
    "\n",
    "dropdown = Dropdown(options=[1, 2, 3])\n",
    "label = Label()\n",
    "\n",
    "\n",
    "def on_change(change):\n",
    "    print(change)\n",
    "#     label.value = 'Value: ' + ?\n",
    "\n",
    "dropdown.observe(on_change, names='value')\n",
    "\n",
    "HBox([dropdown, label])"
   ]
  }
 ],
 "metadata": {
  "kernelspec": {
   "display_name": "xpython",
   "language": "python",
   "name": "xpython"
  },
  "language_info": {
   "file_extension": ".py",
   "mimetype": "text/x-python",
   "name": "python",
   "version": "3.7.3"
  },
  "widgets": {
   "application/vnd.jupyter.widget-state+json": {
    "state": {},
    "version_major": 2,
    "version_minor": 0
   }
  }
 },
 "nbformat": 4,
 "nbformat_minor": 4
}
