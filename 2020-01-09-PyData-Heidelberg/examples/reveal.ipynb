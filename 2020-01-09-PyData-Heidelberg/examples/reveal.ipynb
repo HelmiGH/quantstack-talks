{
 "cells": [
  {
   "cell_type": "markdown",
   "metadata": {
    "slideshow": {
     "slide_type": "notes"
    }
   },
   "source": [
    "these notes will not display in the slideshow"
   ]
  },
  {
   "cell_type": "markdown",
   "metadata": {
    "slideshow": {
     "slide_type": "slide"
    }
   },
   "source": [
    "# interactive dashboard application rendered as a slideshow"
   ]
  },
  {
   "cell_type": "markdown",
   "metadata": {
    "slideshow": {
     "slide_type": "slide"
    }
   },
   "source": [
    "## using\n",
    "\n",
    "* ipywidgets\n",
    "* plotly (express)"
   ]
  },
  {
   "cell_type": "markdown",
   "metadata": {
    "slideshow": {
     "slide_type": "subslide"
    }
   },
   "source": [
    "* voila\n",
    "* reveal"
   ]
  },
  {
   "cell_type": "code",
   "execution_count": null,
   "metadata": {
    "slideshow": {
     "slide_type": "-"
    }
   },
   "outputs": [],
   "source": [
    "import ipywidgets as widgets\n",
    "import plotly.graph_objs as go\n",
    "import plotly.express as px"
   ]
  },
  {
   "cell_type": "markdown",
   "metadata": {
    "slideshow": {
     "slide_type": "slide"
    }
   },
   "source": [
    "### loading the `iris` dataset"
   ]
  },
  {
   "cell_type": "code",
   "execution_count": null,
   "metadata": {
    "slideshow": {
     "slide_type": "-"
    }
   },
   "outputs": [],
   "source": [
    "iris = px.data.iris()"
   ]
  },
  {
   "cell_type": "code",
   "execution_count": null,
   "metadata": {},
   "outputs": [],
   "source": [
    "iris.head()"
   ]
  },
  {
   "cell_type": "code",
   "execution_count": null,
   "metadata": {
    "slideshow": {
     "slide_type": "subslide"
    }
   },
   "outputs": [],
   "source": [
    "fig = go.FigureWidget()\n",
    "keys = list(iris.keys()[:4])\n",
    "\n",
    "@widgets.interact(x=keys, y=keys[::-1])\n",
    "def update_px(x, y):\n",
    "    p = px.scatter(iris, x, y, color='species', width=800, height=600)\n",
    "    for i in range(len(p.data)):\n",
    "        fig.data = []\n",
    "    fig.update(data = [d.to_plotly_json() for d in p.data])\n",
    "    fig.plotly_relayout(p.layout.to_plotly_json())\n",
    "    \n",
    "fig"
   ]
  },
  {
   "cell_type": "markdown",
   "metadata": {
    "slideshow": {
     "slide_type": "skip"
    }
   },
   "source": [
    "inspiration\n",
    "\n",
    "* https://plot.ly/python/plotly-express/\n",
    "* https://community.plot.ly/t/plotly-express-hover-selecting-event-only-partially-working/22136"
   ]
  },
  {
   "cell_type": "markdown",
   "metadata": {
    "slideshow": {
     "slide_type": "slide"
    }
   },
   "source": [
    "alternatively, view pairwise relationships at a glance, with a qualitative colormap of your choice"
   ]
  },
  {
   "cell_type": "code",
   "execution_count": null,
   "metadata": {
    "slideshow": {
     "slide_type": "slide"
    }
   },
   "outputs": [],
   "source": [
    "fig2 = go.FigureWidget()\n",
    "cmaps = {'Plotly': px.colors.qualitative.Plotly, 'D3': px.colors.qualitative.D3,\n",
    "         'Pastel': px.colors.qualitative.Pastel, 'Vivid': px.colors.qualitative.Vivid}\n",
    "\n",
    "@widgets.interact(color_discrete_sequence=cmaps)\n",
    "def update_cmap(color_discrete_sequence):\n",
    "    p = px.scatter_matrix(iris, dimensions=keys, color='species', color_discrete_sequence=color_discrete_sequence,\n",
    "                          width=800, height=600)\n",
    "    for i in range(len(p.data)):\n",
    "        fig2.data = []\n",
    "    fig2.update(data = [d.to_plotly_json() for d in p.data])\n",
    "    fig2.plotly_relayout(p.layout.to_plotly_json())\n",
    "    \n",
    "fig2"
   ]
  }
 ],
 "metadata": {
  "celltoolbar": "Slideshow",
  "kernelspec": {
   "display_name": "Python 3",
   "language": "python",
   "name": "python3"
  },
  "language_info": {
   "codemirror_mode": {
    "name": "ipython",
    "version": 3
   },
   "file_extension": ".py",
   "mimetype": "text/x-python",
   "name": "python",
   "nbconvert_exporter": "python",
   "pygments_lexer": "ipython3",
   "version": "3.7.6"
  },
  "widgets": {
   "application/vnd.jupyter.widget-state+json": {
    "state": {},
    "version_major": 2,
    "version_minor": 0
   }
  }
 },
 "nbformat": 4,
 "nbformat_minor": 4
}
