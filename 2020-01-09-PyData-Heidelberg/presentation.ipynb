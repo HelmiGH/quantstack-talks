{
 "cells": [
  {
   "cell_type": "markdown",
   "metadata": {},
   "source": [
    "![](./img/skip.png)"
   ]
  },
  {
   "cell_type": "markdown",
   "metadata": {},
   "source": [
    "![jlab-logo](./img/voila-logo.svg)\n",
    "\n",
    "# From Jupyter Notebooks to interactive dashboards and web applications\n",
    "\n",
    "## PyData Heidelberg - 2020-01-09\n",
    "\n",
    "## Jeremy Tuloup\n",
    "\n",
    "## https://github.com/QuantStack/quantstack-talks/2020-01-09-PyData-Heidelberg"
   ]
  },
  {
   "cell_type": "markdown",
   "metadata": {},
   "source": [
    "![](./img/skip.png)"
   ]
  },
  {
   "cell_type": "markdown",
   "metadata": {},
   "source": [
    "![quantstack](./img/quantstack-logo.svg)\n",
    "\n",
    "\n",
    "## Scientific Software Engineer\n",
    "\n",
    "## - [quantstack.net](https://quantstack.net)\n",
    "\n",
    "## - [github.com/jtpio](https://github.com/jtpio)\n",
    "\n",
    "## - [twitter.com/jtpio](https://twitter.com/jtpio)"
   ]
  },
  {
   "cell_type": "markdown",
   "metadata": {},
   "source": [
    "![](./img/skip.png)"
   ]
  },
  {
   "cell_type": "markdown",
   "metadata": {
    "toc-hr-collapsed": false
   },
   "source": [
    "# Jupyter Notebooks\n",
    "\n",
    "## [Lorenz.ipynb](./examples/Lorenz.ipynb)"
   ]
  },
  {
   "cell_type": "markdown",
   "metadata": {},
   "source": [
    "![](./img/skip.png)"
   ]
  },
  {
   "cell_type": "markdown",
   "metadata": {},
   "source": [
    "# Jupyter Widgets"
   ]
  },
  {
   "cell_type": "markdown",
   "metadata": {},
   "source": [
    "![](./img/skip.png)"
   ]
  },
  {
   "cell_type": "markdown",
   "metadata": {},
   "source": [
    "# ipywidgets - Base Widgets"
   ]
  },
  {
   "cell_type": "code",
   "execution_count": null,
   "metadata": {},
   "outputs": [],
   "source": [
    "from ipywidgets import HBox, IntSlider, IntText, link\n",
    "\n",
    "slider = IntSlider(min=0, max=10)\n",
    "slider"
   ]
  },
  {
   "cell_type": "code",
   "execution_count": null,
   "metadata": {},
   "outputs": [],
   "source": [
    "slider"
   ]
  },
  {
   "cell_type": "code",
   "execution_count": null,
   "metadata": {},
   "outputs": [],
   "source": [
    "slider.value"
   ]
  },
  {
   "cell_type": "code",
   "execution_count": null,
   "metadata": {},
   "outputs": [],
   "source": [
    "text = IntText()\n",
    "\n",
    "s = IntSlider()\n",
    "\n",
    "link((text, 'value'), (s, 'value'))\n",
    "HBox([text, s])"
   ]
  },
  {
   "cell_type": "markdown",
   "metadata": {},
   "source": [
    "![](./img/skip.png)"
   ]
  },
  {
   "cell_type": "markdown",
   "metadata": {},
   "source": [
    "![arch](./img/widgets-arch.png)"
   ]
  },
  {
   "cell_type": "markdown",
   "metadata": {},
   "source": [
    "![](./img/skip.png)"
   ]
  },
  {
   "cell_type": "markdown",
   "metadata": {
    "toc-hr-collapsed": false
   },
   "source": [
    "# Rich ecosystem of third-party widgets\n",
    "\n",
    "## - bqplot: Interactive 2-D plotting\n",
    "\n",
    "## - ipyleaflet: Interactive maps\n",
    "\n",
    "## - ipycanvas: Interactive Canvas\n",
    "\n",
    "## - ipyvolume: Interactive 3-D plotting\n",
    "\n",
    "## - ipywebrtc, ipysheet, ipytree ..."
   ]
  },
  {
   "cell_type": "markdown",
   "metadata": {},
   "source": [
    "![](./img/skip.png)"
   ]
  },
  {
   "cell_type": "markdown",
   "metadata": {},
   "source": [
    "## bqplot"
   ]
  },
  {
   "cell_type": "code",
   "execution_count": null,
   "metadata": {},
   "outputs": [],
   "source": [
    "import ipywidgets as widgets\n",
    "import numpy as np\n",
    "\n",
    "from bqplot import pyplot as plt"
   ]
  },
  {
   "cell_type": "code",
   "execution_count": null,
   "metadata": {},
   "outputs": [],
   "source": [
    "n = 2000\n",
    "x = np.linspace(0.0, 10.0, n)\n",
    "np.random.seed(0)\n",
    "y = np.cumsum(np.random.randn(n)*10).astype(int)"
   ]
  },
  {
   "cell_type": "code",
   "execution_count": null,
   "metadata": {},
   "outputs": [],
   "source": [
    "fig_hist = plt.figure(title='Histogram')\n",
    "hist = plt.hist(y, bins=25)\n",
    "fig_hist"
   ]
  },
  {
   "cell_type": "code",
   "execution_count": null,
   "metadata": {},
   "outputs": [],
   "source": [
    "slider = widgets.IntSlider(min=1, max=100, v_model=30)\n",
    "widgets.link((hist, 'bins'), (slider, 'value'));\n",
    "slider"
   ]
  },
  {
   "cell_type": "markdown",
   "metadata": {},
   "source": [
    "![](./img/skip.png)"
   ]
  },
  {
   "cell_type": "markdown",
   "metadata": {},
   "source": [
    "## ipyleaflet"
   ]
  },
  {
   "cell_type": "code",
   "execution_count": null,
   "metadata": {},
   "outputs": [],
   "source": [
    "import os\n",
    "import json\n",
    "\n",
    "import numpy as np\n",
    "import pandas as pd\n",
    "\n",
    "from ipywidgets import Dropdown\n",
    "\n",
    "from bqplot import Lines, Figure, LinearScale, DateScale, Axis\n",
    "\n",
    "from ipyleaflet import Map, GeoJSON, WidgetControl, FullScreenControl"
   ]
  },
  {
   "cell_type": "code",
   "execution_count": null,
   "metadata": {},
   "outputs": [],
   "source": [
    "data = pd.read_json(os.path.abspath('./examples/nations.json'))"
   ]
  },
  {
   "cell_type": "code",
   "execution_count": null,
   "metadata": {},
   "outputs": [],
   "source": [
    "def clean_data(data):\n",
    "    for column in ['income', 'lifeExpectancy', 'population']:\n",
    "        data = data.drop(data[data[column].apply(len) <= 4].index)\n",
    "    return data\n",
    "\n",
    "def extrap_interp(data):\n",
    "    data = np.array(data)\n",
    "    x_range = np.arange(1800, 2009, 1.)\n",
    "    y_range = np.interp(x_range, data[:, 0], data[:, 1])\n",
    "    return y_range\n",
    "\n",
    "def extrap_data(data):\n",
    "    for column in ['income', 'lifeExpectancy', 'population']:\n",
    "        data[column] = data[column].apply(extrap_interp)\n",
    "    return data"
   ]
  },
  {
   "cell_type": "code",
   "execution_count": null,
   "metadata": {},
   "outputs": [],
   "source": [
    "data = clean_data(data)\n",
    "data = extrap_data(data)\n",
    "date_start = pd.datetime(1800, 12, 31)\n",
    "date_end = pd.datetime(2009, 12, 31)\n",
    "date_scale = DateScale(min=date_start, max=date_end)\n",
    "date_data = pd.date_range(start=date_start, end=date_end, freq='A', normalize=True)\n",
    "\n",
    "country_name = 'Angola'\n",
    "data_name = 'income'\n",
    "\n",
    "x_data = data[data.name == country_name][data_name].values[0]\n",
    "\n",
    "x_scale = LinearScale()\n",
    "\n",
    "lines = Lines(x=date_data, y=x_data, scales={'x': date_scale, 'y': x_scale})\n",
    "\n",
    "ax_x = Axis(label='Year', scale=date_scale, num_ticks=10, tick_format='%Y')\n",
    "ax_y = Axis(label=data_name.capitalize(), scale=x_scale, orientation='vertical', side='left')\n",
    "\n",
    "figure = Figure(axes=[ax_x, ax_y], title=country_name, marks=[lines], animation_duration=500,\n",
    "                layout={'height': '300px', 'width': '600px'})"
   ]
  },
  {
   "cell_type": "code",
   "execution_count": null,
   "metadata": {},
   "outputs": [],
   "source": [
    "def update_figure(country_name, data_name):\n",
    "    lines.y = data[data.name == country_name][data_name].values[0]\n",
    "    ax_y.label = data_name.capitalize()\n",
    "    figure.title = country_name"
   ]
  },
  {
   "cell_type": "code",
   "execution_count": null,
   "metadata": {},
   "outputs": [],
   "source": [
    "with open('./examples/countries.geo.json') as f:\n",
    "    countries = json.load(f)"
   ]
  },
  {
   "cell_type": "code",
   "execution_count": null,
   "metadata": {},
   "outputs": [],
   "source": [
    "m = Map(zoom=3)\n",
    "\n",
    "geo = GeoJSON(data=countries, style={'fillColor': 'white', 'weight': 0.5}, hover_style={'fillColor': '#1f77b4'}, name='Countries')\n",
    "m.add_layer(geo)\n",
    "\n",
    "m.layout.height = '800px'\n",
    "m"
   ]
  },
  {
   "cell_type": "code",
   "execution_count": null,
   "metadata": {},
   "outputs": [],
   "source": [
    "m.add_control(FullScreenControl())"
   ]
  },
  {
   "cell_type": "code",
   "execution_count": null,
   "metadata": {},
   "outputs": [],
   "source": [
    "widget_control1 = WidgetControl(widget=figure, position='bottomright')\n",
    "\n",
    "m.add_control(widget_control1)\n",
    "\n",
    "def on_hover(event, feature, **kwargs):\n",
    "    global country_name\n",
    "\n",
    "    country_name = feature['properties']['name']\n",
    "    update_figure(country_name, data_name)\n",
    "\n",
    "geo.on_hover(on_hover)"
   ]
  },
  {
   "cell_type": "code",
   "execution_count": null,
   "metadata": {},
   "outputs": [],
   "source": [
    "dropdown = Dropdown(\n",
    "    options=['income', 'population', 'lifeExpectancy'],\n",
    "    value=data_name,\n",
    "    description='Plotting:'\n",
    ")\n",
    "\n",
    "def on_click(change):\n",
    "    global data_name\n",
    "\n",
    "    data_name = change['new']\n",
    "    update_figure(country_name, data_name)\n",
    "\n",
    "dropdown.observe(on_click, 'value')\n",
    "\n",
    "widget_control2 = WidgetControl(widget=dropdown, position='bottomleft')\n",
    "\n",
    "m.add_control(widget_control2)"
   ]
  },
  {
   "cell_type": "markdown",
   "metadata": {},
   "source": [
    "![](./img/skip.png)"
   ]
  },
  {
   "cell_type": "markdown",
   "metadata": {},
   "source": [
    "## ipycanvas\n",
    "\n",
    "### [Game of Life](./examples/conways_game_of_life.ipynb)"
   ]
  },
  {
   "cell_type": "markdown",
   "metadata": {},
   "source": [
    "![](./img/skip.png)"
   ]
  },
  {
   "cell_type": "markdown",
   "metadata": {},
   "source": [
    "## Foundations for interactivity in Voilà\n",
    "\n",
    "### Jupyter Widgets Tutorial: https://github.com/jupyter-widgets/tutorial"
   ]
  },
  {
   "cell_type": "markdown",
   "metadata": {},
   "source": [
    "![](./img/skip.png)"
   ]
  },
  {
   "cell_type": "markdown",
   "metadata": {
    "toc-hr-collapsed": false
   },
   "source": [
    "# Voilà"
   ]
  },
  {
   "cell_type": "markdown",
   "metadata": {},
   "source": [
    "![](./img/skip.png)"
   ]
  },
  {
   "cell_type": "markdown",
   "metadata": {
    "toc-hr-collapsed": false
   },
   "source": [
    "![voila-bqplot](./img/voila-bqplot.gif)"
   ]
  },
  {
   "cell_type": "markdown",
   "metadata": {},
   "source": [
    "![](./img/skip.png)"
   ]
  },
  {
   "cell_type": "markdown",
   "metadata": {},
   "source": [
    "## Remix of existing components\n",
    "\n",
    "## Builds on the strong foundations of the Jupyter Ecosystem\n",
    "\n",
    "### - jupyter_server\n",
    "\n",
    "### - nbconvert\n",
    "\n",
    "## Jupyter Protocol and Standard file format\n",
    "\n",
    "### - No changes needed to go from a notebook to a dashboard\n",
    "\n",
    "### - Jupyter Kernel still at the center of execution\n",
    "\n",
    "## Started under the QuantStack org, now an official Jupyter subproject\n",
    "\n",
    "### - Blog post: https://blog.jupyter.org/voil%C3%A0-is-now-an-official-jupyter-subproject-87d659583490"
   ]
  },
  {
   "cell_type": "markdown",
   "metadata": {},
   "source": [
    "![](./img/skip.png)"
   ]
  },
  {
   "cell_type": "markdown",
   "metadata": {},
   "source": [
    "## Repositories\n",
    "\n",
    "### https://github.com/voila-dashboards/voila\n",
    "\n",
    "### https://github.com/voila-dashboards/tljh-voila-gallery\n",
    "\n",
    "### https://github.com/voila-dashboards/voila-reveal\n",
    "\n",
    "### https://github.com/voila-dashboards/voila-material\n",
    "\n",
    "### https://github.com/voila-dashboards/voila-vuetify\n",
    "\n",
    "### https://github.com/voila-dashboards/voila-gridstack\n",
    "\n",
    "### https://github.com/mariobuikhuizen/voila-embed"
   ]
  },
  {
   "cell_type": "markdown",
   "metadata": {},
   "source": [
    "![](./img/skip.png)"
   ]
  },
  {
   "cell_type": "markdown",
   "metadata": {},
   "source": [
    "# Creating a Voilà dashboard\n",
    "\n",
    "## [basics.ipynb](./examples/basics.ipynb)\n",
    "\n",
    "## [dashboard.ipynb](./examples/dashboard.ipynb)\n",
    "\n",
    "## [Lorenz.ipynb](./examples/Lorenz.ipynb)"
   ]
  },
  {
   "cell_type": "markdown",
   "metadata": {},
   "source": [
    "![](./img/skip.png)"
   ]
  },
  {
   "cell_type": "markdown",
   "metadata": {},
   "source": [
    "## As a standalone app with the `voila` CLI\n",
    "\n",
    "### `voila basics.ipynb`\n",
    "\n",
    "### `voila --help-all`\n",
    "\n",
    "### `voila basics.ipynb --theme=dark`"
   ]
  },
  {
   "cell_type": "markdown",
   "metadata": {},
   "source": [
    "![](./img/skip.png)"
   ]
  },
  {
   "cell_type": "markdown",
   "metadata": {},
   "source": [
    "## JupyterLab Preview Extension\n",
    "\n",
    "![render-with-voila](./img/render-with-voila.gif)"
   ]
  },
  {
   "cell_type": "markdown",
   "metadata": {},
   "source": [
    "![](./img/skip.png)"
   ]
  },
  {
   "cell_type": "markdown",
   "metadata": {},
   "source": [
    "## Classic Notebook Extension\n",
    "\n",
    "![nbextension](img/voila-nbextension-button.png)"
   ]
  },
  {
   "cell_type": "markdown",
   "metadata": {},
   "source": [
    "![](./img/skip.png)"
   ]
  },
  {
   "cell_type": "markdown",
   "metadata": {
    "toc-hr-collapsed": true
   },
   "source": [
    "# Execution model\n",
    "\n",
    "![execution-model](./img/execution-model.png)\n",
    "\n",
    "## Voila prevents arbitrary code execution"
   ]
  },
  {
   "cell_type": "markdown",
   "metadata": {},
   "source": [
    "![](./img/skip.png)"
   ]
  },
  {
   "cell_type": "markdown",
   "metadata": {},
   "source": [
    "# Voilà Templates"
   ]
  },
  {
   "cell_type": "markdown",
   "metadata": {},
   "source": [
    "![](./img/skip.png)"
   ]
  },
  {
   "cell_type": "markdown",
   "metadata": {},
   "source": [
    "## Build modern web applications with Jupyter Notebooks\n",
    "\n",
    "![voila-vuetify](./img/voila-vuetify.gif)"
   ]
  },
  {
   "cell_type": "markdown",
   "metadata": {},
   "source": [
    "![](./img/skip.png)"
   ]
  },
  {
   "cell_type": "markdown",
   "metadata": {},
   "source": [
    "## Voilà Reveal: Voilà-based slideshows\n",
    "\n",
    "### GitHub: https://github.com/voila-dashboards/voila-reveal\n",
    "\n",
    "### Example: https://github.com/mkcor/voila-reveal-example\n",
    "\n",
    "### Blog post: https://blog.jupyter.org/a-slideshow-template-for-voil%C3%A0-apps-435f67d10b4f\n",
    "\n",
    "### [reveal.ipynb](./examples/reveal.ipynb)\n",
    "\n",
    "### `voila --template=reveal examples/reveal.ipynb`"
   ]
  },
  {
   "cell_type": "markdown",
   "metadata": {},
   "source": [
    "![](./img/skip.png)"
   ]
  },
  {
   "cell_type": "markdown",
   "metadata": {},
   "source": [
    "## Voilà Material: Material design template\n",
    "\n",
    "### https://github.com/voila-dashboards/voila-material\n",
    "\n",
    "### [gradient_descent.ipynb](./examples/gradient_descent.ipynb)\n",
    "\n",
    "### `voila examples/gradient_descent.ipynb --template=material`"
   ]
  },
  {
   "cell_type": "markdown",
   "metadata": {},
   "source": [
    "![](./img/skip.png)"
   ]
  },
  {
   "cell_type": "markdown",
   "metadata": {},
   "source": [
    "## Voilà Vuetify: Material design template powered by VueJS\n",
    "\n",
    "### https://github.com/voila-dashboards/voila-vuetify\n",
    "\n",
    "### [bqplot_vuetify.ipynb](./examples/bqplot_vuetify.ipynb)\n",
    "\n",
    "### `voila --template vuetify-default examples/bqplot_vuetify.ipynb`"
   ]
  },
  {
   "cell_type": "markdown",
   "metadata": {},
   "source": [
    "![](./img/skip.png)"
   ]
  },
  {
   "cell_type": "markdown",
   "metadata": {},
   "source": [
    "## Voilà Gridstack: Grid spec layout for Jupyter\n",
    "\n",
    "### GitHub: https://github.com/voila-dashboards/voila-gridstack\n",
    "\n",
    "### Blog post: https://blog.jupyter.org/voila-gridstack-template-8a431c2b353e\n",
    "\n",
    "### [gridstack.ipynb](./examples/gridstack.ipynb)\n",
    "\n",
    "### `voila --template=gridstack examples/gridstack.ipynb --VoilaConfiguration.resources='{\"gridstack\": {\"show_handles\": True}}'`"
   ]
  },
  {
   "cell_type": "markdown",
   "metadata": {},
   "source": [
    "![](./img/skip.png)"
   ]
  },
  {
   "cell_type": "markdown",
   "metadata": {},
   "source": [
    "## Voilà Embed: Embed jupyter widgets in existing websites\n",
    "\n",
    "### https://github.com/mariobuikhuizen/voila-embed\n",
    "\n",
    "![voila-embed](./img/voila-embed.gif)"
   ]
  },
  {
   "cell_type": "markdown",
   "metadata": {},
   "source": [
    "![](./img/skip.png)"
   ]
  },
  {
   "cell_type": "markdown",
   "metadata": {},
   "source": [
    "# Deployment"
   ]
  },
  {
   "cell_type": "markdown",
   "metadata": {},
   "source": [
    "![](./img/skip.png)"
   ]
  },
  {
   "cell_type": "markdown",
   "metadata": {},
   "source": [
    "## ngrok\n",
    "\n",
    "### 1. `ngrok http 8866`\n",
    "\n",
    "### 2. Share the URL\n",
    "\n",
    "### 3. Done"
   ]
  },
  {
   "cell_type": "markdown",
   "metadata": {},
   "source": [
    "![](./img/skip.png)"
   ]
  },
  {
   "cell_type": "markdown",
   "metadata": {},
   "source": [
    "![binder-logo](./img/binder-logo-small.png)\n",
    "\n",
    "### https://voila.readthedocs.io/en/latest/deploy.html#deployment-on-binder\n",
    "\n",
    "### https://github.com/maartenbreddels/voila-demo"
   ]
  },
  {
   "cell_type": "markdown",
   "metadata": {},
   "source": [
    "![](./img/skip.png)"
   ]
  },
  {
   "cell_type": "markdown",
   "metadata": {},
   "source": [
    "## Heroku\n",
    "\n",
    "### https://voila.readthedocs.io/en/latest/deploy.html#deployment-on-heroku\n",
    "\n",
    "### https://github.com/voila-dashboards/voila-heroku\n",
    "\n",
    "### https://voila-vuetify.herokuapp.com/"
   ]
  },
  {
   "cell_type": "markdown",
   "metadata": {},
   "source": [
    "![](./img/skip.png)"
   ]
  },
  {
   "cell_type": "markdown",
   "metadata": {},
   "source": [
    "## Heroku extension for JupyterLab"
   ]
  },
  {
   "cell_type": "markdown",
   "metadata": {},
   "source": [
    "![](./img/skip.png)"
   ]
  },
  {
   "cell_type": "markdown",
   "metadata": {},
   "source": [
    "## Private server\n",
    "\n",
    "### https://voila.readthedocs.io/en/latest/deploy.html#running-voila-on-a-private-server\n",
    "\n",
    "## JupyterHub integration\n",
    "\n",
    "### https://github.com/voila-dashboards/voila/issues/112"
   ]
  },
  {
   "cell_type": "markdown",
   "metadata": {},
   "source": [
    "![](./img/skip.png)"
   ]
  },
  {
   "cell_type": "markdown",
   "metadata": {},
   "source": [
    "# Voilà Gallery\n",
    "\n",
    "## [voila-gallery.org](https://voila-gallery.org)\n",
    "\n",
    "![gallery](./img/voila-gallery.png)"
   ]
  },
  {
   "cell_type": "markdown",
   "metadata": {},
   "source": [
    "![](./img/skip.png)"
   ]
  },
  {
   "cell_type": "markdown",
   "metadata": {},
   "source": [
    "## BinderHub as backend for the public gallery\n",
    "\n",
    "![binder-logo-small](./img/binder-logo-small.png)\n",
    "\n",
    "### Live at: [voila-gallery.org](https://voila-gallery.org)\n",
    "\n",
    "### GitHub: https://github.com/voila-gallery/voila-gallery.github.io"
   ]
  },
  {
   "cell_type": "markdown",
   "metadata": {},
   "source": [
    "![](./img/skip.png)"
   ]
  },
  {
   "cell_type": "markdown",
   "metadata": {},
   "source": [
    "## Plugin for The Littlest JupyterHub to deploy your own gallery\n",
    "\n",
    "### https://github.com/voila-dashboards/tljh-voila-gallery"
   ]
  },
  {
   "cell_type": "markdown",
   "metadata": {},
   "source": [
    "![](./img/skip.png)"
   ]
  },
  {
   "cell_type": "markdown",
   "metadata": {},
   "source": [
    "# Roadmap"
   ]
  },
  {
   "cell_type": "markdown",
   "metadata": {},
   "source": [
    "![](./img/skip.png)"
   ]
  },
  {
   "cell_type": "markdown",
   "metadata": {},
   "source": [
    "## - WYSIWYG editor for JupyterLab (drag and drop)\n",
    "\n",
    "## - JupyterLab build system and extensions\n",
    "\n",
    "## - JupyterHub integration\n",
    "\n",
    "## - Debug Voilà dashboards in JupyterLab with the visual debugger - [debugger.ipynb](./examples/debugger.ipynb)"
   ]
  },
  {
   "cell_type": "markdown",
   "metadata": {},
   "source": [
    "![](./img/skip.png)"
   ]
  },
  {
   "cell_type": "markdown",
   "metadata": {},
   "source": [
    "# Et voilà, thanks!\n",
    "\n",
    "## [github.com/jtpio](https://github.com/jtpio)\n",
    "\n",
    "## [twitter.com/jtpio](https://twitter.com/jtpio)"
   ]
  },
  {
   "cell_type": "markdown",
   "metadata": {},
   "source": [
    "![](./img/skip.png)"
   ]
  }
 ],
 "metadata": {
  "kernelspec": {
   "display_name": "Python 3",
   "language": "python",
   "name": "python3"
  },
  "language_info": {
   "codemirror_mode": {
    "name": "ipython",
    "version": 3
   },
   "file_extension": ".py",
   "mimetype": "text/x-python",
   "name": "python",
   "nbconvert_exporter": "python",
   "pygments_lexer": "ipython3",
   "version": "3.7.6"
  },
  "toc-autonumbering": false,
  "toc-showmarkdowntxt": false,
  "toc-showtags": false,
  "widgets": {
   "application/vnd.jupyter.widget-state+json": {
    "state": {},
    "version_major": 2,
    "version_minor": 0
   }
  }
 },
 "nbformat": 4,
 "nbformat_minor": 4
}
