{
 "cells": [
  {
   "cell_type": "markdown",
   "metadata": {},
   "source": [
    "<img src=\"xeus-cling.svg\">"
   ]
  },
  {
   "cell_type": "code",
   "execution_count": null,
   "metadata": {},
   "outputs": [],
   "source": [
    "#include <vector>\n",
    "#include <string>\n",
    "\n",
    "#include \"xtensor/xtensor.hpp\"\n",
    "#include \"xtensor/xrandom.hpp\"\n",
    "#include \"xtensor/xeval.hpp\"\n",
    "#include \"xtensor/xmath.hpp\"\n",
    "\n",
    "#include \"xwidgets/xslider.hpp\"\n",
    "#include \"xwidgets/xlink.hpp\"\n",
    "\n",
    "#include \"xplot/xfigure.hpp\"\n",
    "#include \"xplot/xmarks.hpp\"\n",
    "#include \"xplot/xaxes.hpp\""
   ]
  },
  {
   "cell_type": "code",
   "execution_count": null,
   "metadata": {},
   "outputs": [],
   "source": [
    "std::size_t n = 200;\n",
    "\n",
    "auto x = xt::linspace(0.0, 10.0, n);\n",
    "\n",
    "xt::random::seed(0);\n",
    "auto cumsum = xt::eval(xt::cumsum(xt::random::randn<double>({n})));\n",
    "auto y = xt::eval(xt::floor(cumsum * 10.0));\n",
    "\n",
    "auto fig = xpl::figure().title(\"Histogram\").finalize();\n",
    "\n",
    "xpl::linear_scale xs, ys;\n",
    "xpl::hist hist(xs, ys);\n",
    "hist.sample = y;\n",
    "hist.bins = 25;\n",
    "hist.colors = std::vector<std::string>({\"#1f77b4\"});\n",
    "\n",
    "xpl::axis hx(xs), hy(ys);\n",
    "hy.orientation = \"vertical\";\n",
    "fig.add_axis(hx);\n",
    "fig.add_axis(hy);\n",
    "\n",
    "fig.add_mark(hist);\n",
    "fig"
   ]
  },
  {
   "cell_type": "code",
   "execution_count": null,
   "metadata": {},
   "outputs": [],
   "source": [
    "auto slider = xw::slider<std::size_t>()\n",
    "    .min(1).max(100)\n",
    "    .value(30).finalize();\n",
    "auto l = xw::link(slider, \"value\", hist, \"bins\");\n",
    "slider"
   ]
  }
 ],
 "metadata": {
  "kernelspec": {
   "display_name": "C++14",
   "language": "C++14",
   "name": "xcpp14"
  },
  "language_info": {
   "codemirror_mode": "text/x-c++src",
   "file_extension": ".cpp",
   "mimetype": "text/x-c++src",
   "name": "c++",
   "version": "14"
  }
 },
 "nbformat": 4,
 "nbformat_minor": 4
}
